{
  "nbformat": 4,
  "nbformat_minor": 0,
  "metadata": {
    "colab": {
      "provenance": [],
      "authorship_tag": "ABX9TyP9lRc6lBkJpJubDP3AYG7b",
      "include_colab_link": true
    },
    "kernelspec": {
      "name": "python3",
      "display_name": "Python 3"
    },
    "language_info": {
      "name": "python"
    }
  },
  "cells": [
    {
      "cell_type": "markdown",
      "metadata": {
        "id": "view-in-github",
        "colab_type": "text"
      },
      "source": [
        "<a href=\"https://colab.research.google.com/github/leeyoubin112/AI-PROJECT/blob/main/%ED%94%84%EB%A1%9C%EC%A0%9D%ED%8A%B82.ipynb\" target=\"_parent\"><img src=\"https://colab.research.google.com/assets/colab-badge.svg\" alt=\"Open In Colab\"/></a>"
      ]
    },
    {
      "cell_type": "markdown",
      "source": [
        "#영화 관객수 예측 모델 프로젝트"
      ],
      "metadata": {
        "id": "VHSY2EnRXGGq"
      }
    },
    {
      "cell_type": "markdown",
      "source": [
        "2010년대 한국에서 개봉한 한국영화 600개에 대한 감독, 이름, 상영등급, 관객수 등의 정보가 담긴 데이터를 가진 train 데이터를 활용하여 test 데이터에 대한 관객수를 예측하는 프로젝트입니다."
      ],
      "metadata": {
        "id": "zP9J8f6mXbqj"
      }
    },
    {
      "cell_type": "markdown",
      "source": [
        "##데이터 설명\n",
        "\n",
        "1.title - 영화의 제목 \n",
        "\n",
        "2.distributor - 배급사 \n",
        "\n",
        "3.genre - 장르 \n",
        "\n",
        "4.release_time - 개봉일\n",
        "\n",
        "5.time - 상영시간(분)\n",
        "\n",
        "6.screening_rat - 상영등급\n",
        "\n",
        "7.director - 감독이름\n",
        "\n",
        "8.dir_prev_bfnum - 해당 감독이 이 영화를 만들기 전 제작에 참여한 영화에서의 평균 관객수(단 관객수가 알려지지 않은 영화 제외)\n",
        "\n",
        "9.dir_prev_num - 해당 감독이 이 영화를 만들기 전 제작에 참여한 영화의 개수(단 관객수가 알려지지 않은 영화 제외)\n",
        "\n",
        "10.num_staff - 스텝수\n",
        "\n",
        "11.num_actor - 주연 배우수\n",
        "\n",
        "12.box_off_num - 관객수"
      ],
      "metadata": {
        "id": "0Qvxnod5XupD"
      }
    },
    {
      "cell_type": "markdown",
      "source": [
        "1. 라이브러리 및 Data set 불러오기"
      ],
      "metadata": {
        "id": "x336LeY0Ustu"
      }
    },
    {
      "cell_type": "code",
      "execution_count": null,
      "metadata": {
        "id": "Lz1wRodl_otM"
      },
      "outputs": [],
      "source": [
        "import numpy as np\n",
        "import pandas as pd\n",
        "import matplotlib.pyplot as plt"
      ]
    },
    {
      "cell_type": "code",
      "source": [
        "# 데이터 불러오기\n",
        "train = pd.read_csv(\"movies_train.csv\")\n",
        "test = pd.read_csv('movies_test.csv')\n",
        "submission = pd.read_csv('submission.csv')"
      ],
      "metadata": {
        "id": "3VvTtscV_9I9"
      },
      "execution_count": null,
      "outputs": []
    },
    {
      "cell_type": "code",
      "source": [
        "train.head()"
      ],
      "metadata": {
        "colab": {
          "base_uri": "https://localhost:8080/",
          "height": 206
        },
        "id": "nwZ6ATJZYJ1V",
        "outputId": "c4927619-d306-4f4c-ec7a-43b9d945d39e"
      },
      "execution_count": null,
      "outputs": [
        {
          "output_type": "execute_result",
          "data": {
            "text/plain": [
              "       title   distributor genre release_time  time screening_rat director  \\\n",
              "0     개들의 전쟁      롯데엔터테인먼트    액션   2012-11-22    96      청소년 관람불가      조병옥   \n",
              "1       내부자들        (주)쇼박스   느와르   2015-11-19   130      청소년 관람불가      우민호   \n",
              "2  은밀하게 위대하게        (주)쇼박스    액션   2013-06-05   123       15세 관람가      장철수   \n",
              "3   나는 공무원이다        (주)NEW   코미디   2012-07-12   101        전체 관람가      구자홍   \n",
              "4       불량남녀  쇼박스(주)미디어플렉스   코미디   2010-11-04   108       15세 관람가      신근호   \n",
              "\n",
              "   dir_prev_bfnum  dir_prev_num  num_staff  num_actor  box_off_num  \n",
              "0             NaN             0         91          2        23398  \n",
              "1      1161602.50             2        387          3      7072501  \n",
              "2       220775.25             4        343          4      6959083  \n",
              "3        23894.00             2         20          6       217866  \n",
              "4            1.00             1        251          2       483387  "
            ],
            "text/html": [
              "\n",
              "  <div id=\"df-40992ce9-3cbf-43e6-b08f-3eff1691c1bb\">\n",
              "    <div class=\"colab-df-container\">\n",
              "      <div>\n",
              "<style scoped>\n",
              "    .dataframe tbody tr th:only-of-type {\n",
              "        vertical-align: middle;\n",
              "    }\n",
              "\n",
              "    .dataframe tbody tr th {\n",
              "        vertical-align: top;\n",
              "    }\n",
              "\n",
              "    .dataframe thead th {\n",
              "        text-align: right;\n",
              "    }\n",
              "</style>\n",
              "<table border=\"1\" class=\"dataframe\">\n",
              "  <thead>\n",
              "    <tr style=\"text-align: right;\">\n",
              "      <th></th>\n",
              "      <th>title</th>\n",
              "      <th>distributor</th>\n",
              "      <th>genre</th>\n",
              "      <th>release_time</th>\n",
              "      <th>time</th>\n",
              "      <th>screening_rat</th>\n",
              "      <th>director</th>\n",
              "      <th>dir_prev_bfnum</th>\n",
              "      <th>dir_prev_num</th>\n",
              "      <th>num_staff</th>\n",
              "      <th>num_actor</th>\n",
              "      <th>box_off_num</th>\n",
              "    </tr>\n",
              "  </thead>\n",
              "  <tbody>\n",
              "    <tr>\n",
              "      <th>0</th>\n",
              "      <td>개들의 전쟁</td>\n",
              "      <td>롯데엔터테인먼트</td>\n",
              "      <td>액션</td>\n",
              "      <td>2012-11-22</td>\n",
              "      <td>96</td>\n",
              "      <td>청소년 관람불가</td>\n",
              "      <td>조병옥</td>\n",
              "      <td>NaN</td>\n",
              "      <td>0</td>\n",
              "      <td>91</td>\n",
              "      <td>2</td>\n",
              "      <td>23398</td>\n",
              "    </tr>\n",
              "    <tr>\n",
              "      <th>1</th>\n",
              "      <td>내부자들</td>\n",
              "      <td>(주)쇼박스</td>\n",
              "      <td>느와르</td>\n",
              "      <td>2015-11-19</td>\n",
              "      <td>130</td>\n",
              "      <td>청소년 관람불가</td>\n",
              "      <td>우민호</td>\n",
              "      <td>1161602.50</td>\n",
              "      <td>2</td>\n",
              "      <td>387</td>\n",
              "      <td>3</td>\n",
              "      <td>7072501</td>\n",
              "    </tr>\n",
              "    <tr>\n",
              "      <th>2</th>\n",
              "      <td>은밀하게 위대하게</td>\n",
              "      <td>(주)쇼박스</td>\n",
              "      <td>액션</td>\n",
              "      <td>2013-06-05</td>\n",
              "      <td>123</td>\n",
              "      <td>15세 관람가</td>\n",
              "      <td>장철수</td>\n",
              "      <td>220775.25</td>\n",
              "      <td>4</td>\n",
              "      <td>343</td>\n",
              "      <td>4</td>\n",
              "      <td>6959083</td>\n",
              "    </tr>\n",
              "    <tr>\n",
              "      <th>3</th>\n",
              "      <td>나는 공무원이다</td>\n",
              "      <td>(주)NEW</td>\n",
              "      <td>코미디</td>\n",
              "      <td>2012-07-12</td>\n",
              "      <td>101</td>\n",
              "      <td>전체 관람가</td>\n",
              "      <td>구자홍</td>\n",
              "      <td>23894.00</td>\n",
              "      <td>2</td>\n",
              "      <td>20</td>\n",
              "      <td>6</td>\n",
              "      <td>217866</td>\n",
              "    </tr>\n",
              "    <tr>\n",
              "      <th>4</th>\n",
              "      <td>불량남녀</td>\n",
              "      <td>쇼박스(주)미디어플렉스</td>\n",
              "      <td>코미디</td>\n",
              "      <td>2010-11-04</td>\n",
              "      <td>108</td>\n",
              "      <td>15세 관람가</td>\n",
              "      <td>신근호</td>\n",
              "      <td>1.00</td>\n",
              "      <td>1</td>\n",
              "      <td>251</td>\n",
              "      <td>2</td>\n",
              "      <td>483387</td>\n",
              "    </tr>\n",
              "  </tbody>\n",
              "</table>\n",
              "</div>\n",
              "      <button class=\"colab-df-convert\" onclick=\"convertToInteractive('df-40992ce9-3cbf-43e6-b08f-3eff1691c1bb')\"\n",
              "              title=\"Convert this dataframe to an interactive table.\"\n",
              "              style=\"display:none;\">\n",
              "        \n",
              "  <svg xmlns=\"http://www.w3.org/2000/svg\" height=\"24px\"viewBox=\"0 0 24 24\"\n",
              "       width=\"24px\">\n",
              "    <path d=\"M0 0h24v24H0V0z\" fill=\"none\"/>\n",
              "    <path d=\"M18.56 5.44l.94 2.06.94-2.06 2.06-.94-2.06-.94-.94-2.06-.94 2.06-2.06.94zm-11 1L8.5 8.5l.94-2.06 2.06-.94-2.06-.94L8.5 2.5l-.94 2.06-2.06.94zm10 10l.94 2.06.94-2.06 2.06-.94-2.06-.94-.94-2.06-.94 2.06-2.06.94z\"/><path d=\"M17.41 7.96l-1.37-1.37c-.4-.4-.92-.59-1.43-.59-.52 0-1.04.2-1.43.59L10.3 9.45l-7.72 7.72c-.78.78-.78 2.05 0 2.83L4 21.41c.39.39.9.59 1.41.59.51 0 1.02-.2 1.41-.59l7.78-7.78 2.81-2.81c.8-.78.8-2.07 0-2.86zM5.41 20L4 18.59l7.72-7.72 1.47 1.35L5.41 20z\"/>\n",
              "  </svg>\n",
              "      </button>\n",
              "      \n",
              "  <style>\n",
              "    .colab-df-container {\n",
              "      display:flex;\n",
              "      flex-wrap:wrap;\n",
              "      gap: 12px;\n",
              "    }\n",
              "\n",
              "    .colab-df-convert {\n",
              "      background-color: #E8F0FE;\n",
              "      border: none;\n",
              "      border-radius: 50%;\n",
              "      cursor: pointer;\n",
              "      display: none;\n",
              "      fill: #1967D2;\n",
              "      height: 32px;\n",
              "      padding: 0 0 0 0;\n",
              "      width: 32px;\n",
              "    }\n",
              "\n",
              "    .colab-df-convert:hover {\n",
              "      background-color: #E2EBFA;\n",
              "      box-shadow: 0px 1px 2px rgba(60, 64, 67, 0.3), 0px 1px 3px 1px rgba(60, 64, 67, 0.15);\n",
              "      fill: #174EA6;\n",
              "    }\n",
              "\n",
              "    [theme=dark] .colab-df-convert {\n",
              "      background-color: #3B4455;\n",
              "      fill: #D2E3FC;\n",
              "    }\n",
              "\n",
              "    [theme=dark] .colab-df-convert:hover {\n",
              "      background-color: #434B5C;\n",
              "      box-shadow: 0px 1px 3px 1px rgba(0, 0, 0, 0.15);\n",
              "      filter: drop-shadow(0px 1px 2px rgba(0, 0, 0, 0.3));\n",
              "      fill: #FFFFFF;\n",
              "    }\n",
              "  </style>\n",
              "\n",
              "      <script>\n",
              "        const buttonEl =\n",
              "          document.querySelector('#df-40992ce9-3cbf-43e6-b08f-3eff1691c1bb button.colab-df-convert');\n",
              "        buttonEl.style.display =\n",
              "          google.colab.kernel.accessAllowed ? 'block' : 'none';\n",
              "\n",
              "        async function convertToInteractive(key) {\n",
              "          const element = document.querySelector('#df-40992ce9-3cbf-43e6-b08f-3eff1691c1bb');\n",
              "          const dataTable =\n",
              "            await google.colab.kernel.invokeFunction('convertToInteractive',\n",
              "                                                     [key], {});\n",
              "          if (!dataTable) return;\n",
              "\n",
              "          const docLinkHtml = 'Like what you see? Visit the ' +\n",
              "            '<a target=\"_blank\" href=https://colab.research.google.com/notebooks/data_table.ipynb>data table notebook</a>'\n",
              "            + ' to learn more about interactive tables.';\n",
              "          element.innerHTML = '';\n",
              "          dataTable['output_type'] = 'display_data';\n",
              "          await google.colab.output.renderOutput(dataTable, element);\n",
              "          const docLink = document.createElement('div');\n",
              "          docLink.innerHTML = docLinkHtml;\n",
              "          element.appendChild(docLink);\n",
              "        }\n",
              "      </script>\n",
              "    </div>\n",
              "  </div>\n",
              "  "
            ]
          },
          "metadata": {},
          "execution_count": 149
        }
      ]
    },
    {
      "cell_type": "code",
      "source": [
        "test.head()"
      ],
      "metadata": {
        "colab": {
          "base_uri": "https://localhost:8080/",
          "height": 206
        },
        "id": "mc_X0H47YPkq",
        "outputId": "49d009b4-41fa-4d1c-d41c-84999183cc35"
      },
      "execution_count": null,
      "outputs": [
        {
          "output_type": "execute_result",
          "data": {
            "text/plain": [
              "         title distributor   genre release_time  time screening_rat director  \\\n",
              "0       용서는 없다      시네마서비스     느와르   2010-01-07   125      청소년 관람불가      김형준   \n",
              "1  아빠가 여자를 좋아해      (주)쇼박스  멜로/로맨스   2010-01-14   113       12세 관람가      이광재   \n",
              "2          하모니   CJ 엔터테인먼트     드라마   2010-01-28   115       12세 관람가      강대규   \n",
              "3          의형제      (주)쇼박스      액션   2010-02-04   116       15세 관람가       장훈   \n",
              "4        평행 이론   CJ 엔터테인먼트      공포   2010-02-18   110       15세 관람가      권호영   \n",
              "\n",
              "   dir_prev_bfnum  dir_prev_num  num_staff  num_actor  \n",
              "0    3.005290e+05             2        304          3  \n",
              "1    3.427002e+05             4        275          3  \n",
              "2    4.206611e+06             3        419          7  \n",
              "3    6.913420e+05             2        408          2  \n",
              "4    3.173800e+04             1        380          1  "
            ],
            "text/html": [
              "\n",
              "  <div id=\"df-55bf1afa-e6ed-4e1a-87b5-16754aa4dce3\">\n",
              "    <div class=\"colab-df-container\">\n",
              "      <div>\n",
              "<style scoped>\n",
              "    .dataframe tbody tr th:only-of-type {\n",
              "        vertical-align: middle;\n",
              "    }\n",
              "\n",
              "    .dataframe tbody tr th {\n",
              "        vertical-align: top;\n",
              "    }\n",
              "\n",
              "    .dataframe thead th {\n",
              "        text-align: right;\n",
              "    }\n",
              "</style>\n",
              "<table border=\"1\" class=\"dataframe\">\n",
              "  <thead>\n",
              "    <tr style=\"text-align: right;\">\n",
              "      <th></th>\n",
              "      <th>title</th>\n",
              "      <th>distributor</th>\n",
              "      <th>genre</th>\n",
              "      <th>release_time</th>\n",
              "      <th>time</th>\n",
              "      <th>screening_rat</th>\n",
              "      <th>director</th>\n",
              "      <th>dir_prev_bfnum</th>\n",
              "      <th>dir_prev_num</th>\n",
              "      <th>num_staff</th>\n",
              "      <th>num_actor</th>\n",
              "    </tr>\n",
              "  </thead>\n",
              "  <tbody>\n",
              "    <tr>\n",
              "      <th>0</th>\n",
              "      <td>용서는 없다</td>\n",
              "      <td>시네마서비스</td>\n",
              "      <td>느와르</td>\n",
              "      <td>2010-01-07</td>\n",
              "      <td>125</td>\n",
              "      <td>청소년 관람불가</td>\n",
              "      <td>김형준</td>\n",
              "      <td>3.005290e+05</td>\n",
              "      <td>2</td>\n",
              "      <td>304</td>\n",
              "      <td>3</td>\n",
              "    </tr>\n",
              "    <tr>\n",
              "      <th>1</th>\n",
              "      <td>아빠가 여자를 좋아해</td>\n",
              "      <td>(주)쇼박스</td>\n",
              "      <td>멜로/로맨스</td>\n",
              "      <td>2010-01-14</td>\n",
              "      <td>113</td>\n",
              "      <td>12세 관람가</td>\n",
              "      <td>이광재</td>\n",
              "      <td>3.427002e+05</td>\n",
              "      <td>4</td>\n",
              "      <td>275</td>\n",
              "      <td>3</td>\n",
              "    </tr>\n",
              "    <tr>\n",
              "      <th>2</th>\n",
              "      <td>하모니</td>\n",
              "      <td>CJ 엔터테인먼트</td>\n",
              "      <td>드라마</td>\n",
              "      <td>2010-01-28</td>\n",
              "      <td>115</td>\n",
              "      <td>12세 관람가</td>\n",
              "      <td>강대규</td>\n",
              "      <td>4.206611e+06</td>\n",
              "      <td>3</td>\n",
              "      <td>419</td>\n",
              "      <td>7</td>\n",
              "    </tr>\n",
              "    <tr>\n",
              "      <th>3</th>\n",
              "      <td>의형제</td>\n",
              "      <td>(주)쇼박스</td>\n",
              "      <td>액션</td>\n",
              "      <td>2010-02-04</td>\n",
              "      <td>116</td>\n",
              "      <td>15세 관람가</td>\n",
              "      <td>장훈</td>\n",
              "      <td>6.913420e+05</td>\n",
              "      <td>2</td>\n",
              "      <td>408</td>\n",
              "      <td>2</td>\n",
              "    </tr>\n",
              "    <tr>\n",
              "      <th>4</th>\n",
              "      <td>평행 이론</td>\n",
              "      <td>CJ 엔터테인먼트</td>\n",
              "      <td>공포</td>\n",
              "      <td>2010-02-18</td>\n",
              "      <td>110</td>\n",
              "      <td>15세 관람가</td>\n",
              "      <td>권호영</td>\n",
              "      <td>3.173800e+04</td>\n",
              "      <td>1</td>\n",
              "      <td>380</td>\n",
              "      <td>1</td>\n",
              "    </tr>\n",
              "  </tbody>\n",
              "</table>\n",
              "</div>\n",
              "      <button class=\"colab-df-convert\" onclick=\"convertToInteractive('df-55bf1afa-e6ed-4e1a-87b5-16754aa4dce3')\"\n",
              "              title=\"Convert this dataframe to an interactive table.\"\n",
              "              style=\"display:none;\">\n",
              "        \n",
              "  <svg xmlns=\"http://www.w3.org/2000/svg\" height=\"24px\"viewBox=\"0 0 24 24\"\n",
              "       width=\"24px\">\n",
              "    <path d=\"M0 0h24v24H0V0z\" fill=\"none\"/>\n",
              "    <path d=\"M18.56 5.44l.94 2.06.94-2.06 2.06-.94-2.06-.94-.94-2.06-.94 2.06-2.06.94zm-11 1L8.5 8.5l.94-2.06 2.06-.94-2.06-.94L8.5 2.5l-.94 2.06-2.06.94zm10 10l.94 2.06.94-2.06 2.06-.94-2.06-.94-.94-2.06-.94 2.06-2.06.94z\"/><path d=\"M17.41 7.96l-1.37-1.37c-.4-.4-.92-.59-1.43-.59-.52 0-1.04.2-1.43.59L10.3 9.45l-7.72 7.72c-.78.78-.78 2.05 0 2.83L4 21.41c.39.39.9.59 1.41.59.51 0 1.02-.2 1.41-.59l7.78-7.78 2.81-2.81c.8-.78.8-2.07 0-2.86zM5.41 20L4 18.59l7.72-7.72 1.47 1.35L5.41 20z\"/>\n",
              "  </svg>\n",
              "      </button>\n",
              "      \n",
              "  <style>\n",
              "    .colab-df-container {\n",
              "      display:flex;\n",
              "      flex-wrap:wrap;\n",
              "      gap: 12px;\n",
              "    }\n",
              "\n",
              "    .colab-df-convert {\n",
              "      background-color: #E8F0FE;\n",
              "      border: none;\n",
              "      border-radius: 50%;\n",
              "      cursor: pointer;\n",
              "      display: none;\n",
              "      fill: #1967D2;\n",
              "      height: 32px;\n",
              "      padding: 0 0 0 0;\n",
              "      width: 32px;\n",
              "    }\n",
              "\n",
              "    .colab-df-convert:hover {\n",
              "      background-color: #E2EBFA;\n",
              "      box-shadow: 0px 1px 2px rgba(60, 64, 67, 0.3), 0px 1px 3px 1px rgba(60, 64, 67, 0.15);\n",
              "      fill: #174EA6;\n",
              "    }\n",
              "\n",
              "    [theme=dark] .colab-df-convert {\n",
              "      background-color: #3B4455;\n",
              "      fill: #D2E3FC;\n",
              "    }\n",
              "\n",
              "    [theme=dark] .colab-df-convert:hover {\n",
              "      background-color: #434B5C;\n",
              "      box-shadow: 0px 1px 3px 1px rgba(0, 0, 0, 0.15);\n",
              "      filter: drop-shadow(0px 1px 2px rgba(0, 0, 0, 0.3));\n",
              "      fill: #FFFFFF;\n",
              "    }\n",
              "  </style>\n",
              "\n",
              "      <script>\n",
              "        const buttonEl =\n",
              "          document.querySelector('#df-55bf1afa-e6ed-4e1a-87b5-16754aa4dce3 button.colab-df-convert');\n",
              "        buttonEl.style.display =\n",
              "          google.colab.kernel.accessAllowed ? 'block' : 'none';\n",
              "\n",
              "        async function convertToInteractive(key) {\n",
              "          const element = document.querySelector('#df-55bf1afa-e6ed-4e1a-87b5-16754aa4dce3');\n",
              "          const dataTable =\n",
              "            await google.colab.kernel.invokeFunction('convertToInteractive',\n",
              "                                                     [key], {});\n",
              "          if (!dataTable) return;\n",
              "\n",
              "          const docLinkHtml = 'Like what you see? Visit the ' +\n",
              "            '<a target=\"_blank\" href=https://colab.research.google.com/notebooks/data_table.ipynb>data table notebook</a>'\n",
              "            + ' to learn more about interactive tables.';\n",
              "          element.innerHTML = '';\n",
              "          dataTable['output_type'] = 'display_data';\n",
              "          await google.colab.output.renderOutput(dataTable, element);\n",
              "          const docLink = document.createElement('div');\n",
              "          docLink.innerHTML = docLinkHtml;\n",
              "          element.appendChild(docLink);\n",
              "        }\n",
              "      </script>\n",
              "    </div>\n",
              "  </div>\n",
              "  "
            ]
          },
          "metadata": {},
          "execution_count": 150
        }
      ]
    },
    {
      "cell_type": "code",
      "source": [
        "train.info()"
      ],
      "metadata": {
        "colab": {
          "base_uri": "https://localhost:8080/"
        },
        "id": "Gupy4eMOYgAi",
        "outputId": "75efbc55-d7c9-4585-c337-5945923c3466"
      },
      "execution_count": null,
      "outputs": [
        {
          "output_type": "stream",
          "name": "stdout",
          "text": [
            "<class 'pandas.core.frame.DataFrame'>\n",
            "RangeIndex: 600 entries, 0 to 599\n",
            "Data columns (total 12 columns):\n",
            " #   Column          Non-Null Count  Dtype  \n",
            "---  ------          --------------  -----  \n",
            " 0   title           600 non-null    object \n",
            " 1   distributor     600 non-null    object \n",
            " 2   genre           600 non-null    object \n",
            " 3   release_time    600 non-null    object \n",
            " 4   time            600 non-null    int64  \n",
            " 5   screening_rat   600 non-null    object \n",
            " 6   director        600 non-null    object \n",
            " 7   dir_prev_bfnum  270 non-null    float64\n",
            " 8   dir_prev_num    600 non-null    int64  \n",
            " 9   num_staff       600 non-null    int64  \n",
            " 10  num_actor       600 non-null    int64  \n",
            " 11  box_off_num     600 non-null    int64  \n",
            "dtypes: float64(1), int64(5), object(6)\n",
            "memory usage: 56.4+ KB\n"
          ]
        }
      ]
    },
    {
      "cell_type": "code",
      "source": [
        "test.info()"
      ],
      "metadata": {
        "colab": {
          "base_uri": "https://localhost:8080/"
        },
        "id": "w6lhwG8yYnYx",
        "outputId": "cf34f4c4-c663-44a1-ca91-0a5cc0462c5f"
      },
      "execution_count": null,
      "outputs": [
        {
          "output_type": "stream",
          "name": "stdout",
          "text": [
            "<class 'pandas.core.frame.DataFrame'>\n",
            "RangeIndex: 243 entries, 0 to 242\n",
            "Data columns (total 11 columns):\n",
            " #   Column          Non-Null Count  Dtype  \n",
            "---  ------          --------------  -----  \n",
            " 0   title           243 non-null    object \n",
            " 1   distributor     243 non-null    object \n",
            " 2   genre           243 non-null    object \n",
            " 3   release_time    243 non-null    object \n",
            " 4   time            243 non-null    int64  \n",
            " 5   screening_rat   243 non-null    object \n",
            " 6   director        243 non-null    object \n",
            " 7   dir_prev_bfnum  107 non-null    float64\n",
            " 8   dir_prev_num    243 non-null    int64  \n",
            " 9   num_staff       243 non-null    int64  \n",
            " 10  num_actor       243 non-null    int64  \n",
            "dtypes: float64(1), int64(4), object(6)\n",
            "memory usage: 21.0+ KB\n"
          ]
        }
      ]
    },
    {
      "cell_type": "code",
      "source": [
        "train['title'].duplicated().sum()"
      ],
      "metadata": {
        "colab": {
          "base_uri": "https://localhost:8080/"
        },
        "id": "fEbUISSwYydO",
        "outputId": "1384d5b1-5221-42ea-f218-603456e90486"
      },
      "execution_count": null,
      "outputs": [
        {
          "output_type": "execute_result",
          "data": {
            "text/plain": [
              "0"
            ]
          },
          "metadata": {},
          "execution_count": 153
        }
      ]
    },
    {
      "cell_type": "markdown",
      "source": [
        "train, 테스트 데이텃 셋에 7번  dir_prev_bfnum에 결측값 존재하고 중복데이터는 존재 하지않는다."
      ],
      "metadata": {
        "id": "SGuRxHJKYhMM"
      }
    },
    {
      "cell_type": "code",
      "source": [
        "#결측값 제거\n",
        "train[train['dir_prev_bfnum'].isna()]['dir_prev_num']\n",
        "test[test['dir_prev_bfnum'].isna()]['dir_prev_num']"
      ],
      "metadata": {
        "colab": {
          "base_uri": "https://localhost:8080/"
        },
        "id": "3uoouf6jZJJo",
        "outputId": "8abf8c36-27f7-4e02-8a77-65168a2f4770"
      },
      "execution_count": null,
      "outputs": [
        {
          "output_type": "execute_result",
          "data": {
            "text/plain": [
              "5      0\n",
              "6      0\n",
              "7      0\n",
              "8      0\n",
              "9      0\n",
              "      ..\n",
              "235    0\n",
              "237    0\n",
              "239    0\n",
              "240    0\n",
              "242    0\n",
              "Name: dir_prev_num, Length: 136, dtype: int64"
            ]
          },
          "metadata": {},
          "execution_count": 154
        }
      ]
    },
    {
      "cell_type": "code",
      "source": [
        "train['box_off_num'].describe()"
      ],
      "metadata": {
        "colab": {
          "base_uri": "https://localhost:8080/"
        },
        "outputId": "e78591f1-ba14-4ef9-b319-a20c6c1829f5",
        "id": "dxmMdQJ7bliL"
      },
      "execution_count": null,
      "outputs": [
        {
          "output_type": "execute_result",
          "data": {
            "text/plain": [
              "count    6.000000e+02\n",
              "mean     7.081818e+05\n",
              "std      1.828006e+06\n",
              "min      1.000000e+00\n",
              "25%      1.297250e+03\n",
              "50%      1.259100e+04\n",
              "75%      4.798868e+05\n",
              "max      1.426277e+07\n",
              "Name: box_off_num, dtype: float64"
            ]
          },
          "metadata": {},
          "execution_count": 155
        }
      ]
    },
    {
      "cell_type": "code",
      "source": [
        "pd.options.display.float_format = '{:.1f}'.format"
      ],
      "metadata": {
        "id": "roV4M4crbM9f"
      },
      "execution_count": null,
      "outputs": []
    },
    {
      "cell_type": "code",
      "source": [
        "train.describe()"
      ],
      "metadata": {
        "colab": {
          "base_uri": "https://localhost:8080/",
          "height": 300
        },
        "id": "lgwonzXxa7W-",
        "outputId": "93a552c8-8fc6-4ac5-c0b2-2df7e0681df0"
      },
      "execution_count": null,
      "outputs": [
        {
          "output_type": "execute_result",
          "data": {
            "text/plain": [
              "       time  dir_prev_bfnum  dir_prev_num  num_staff  num_actor  box_off_num\n",
              "count 600.0           270.0         600.0      600.0      600.0        600.0\n",
              "mean  100.9       1050442.9           0.9      151.1        3.7     708181.8\n",
              "std    18.1       1791408.3           1.2      165.7        2.4    1828005.9\n",
              "min    45.0             1.0           0.0        0.0        0.0          1.0\n",
              "25%    89.0         20380.0           0.0       17.0        2.0       1297.2\n",
              "50%   100.0        478423.6           0.0       82.5        3.0      12591.0\n",
              "75%   114.0       1286568.6           2.0      264.0        4.0     479886.8\n",
              "max   180.0      17615314.0           5.0      869.0       25.0   14262766.0"
            ],
            "text/html": [
              "\n",
              "  <div id=\"df-9234a910-3864-4d17-a8ef-49a1e928ef42\">\n",
              "    <div class=\"colab-df-container\">\n",
              "      <div>\n",
              "<style scoped>\n",
              "    .dataframe tbody tr th:only-of-type {\n",
              "        vertical-align: middle;\n",
              "    }\n",
              "\n",
              "    .dataframe tbody tr th {\n",
              "        vertical-align: top;\n",
              "    }\n",
              "\n",
              "    .dataframe thead th {\n",
              "        text-align: right;\n",
              "    }\n",
              "</style>\n",
              "<table border=\"1\" class=\"dataframe\">\n",
              "  <thead>\n",
              "    <tr style=\"text-align: right;\">\n",
              "      <th></th>\n",
              "      <th>time</th>\n",
              "      <th>dir_prev_bfnum</th>\n",
              "      <th>dir_prev_num</th>\n",
              "      <th>num_staff</th>\n",
              "      <th>num_actor</th>\n",
              "      <th>box_off_num</th>\n",
              "    </tr>\n",
              "  </thead>\n",
              "  <tbody>\n",
              "    <tr>\n",
              "      <th>count</th>\n",
              "      <td>600.0</td>\n",
              "      <td>270.0</td>\n",
              "      <td>600.0</td>\n",
              "      <td>600.0</td>\n",
              "      <td>600.0</td>\n",
              "      <td>600.0</td>\n",
              "    </tr>\n",
              "    <tr>\n",
              "      <th>mean</th>\n",
              "      <td>100.9</td>\n",
              "      <td>1050442.9</td>\n",
              "      <td>0.9</td>\n",
              "      <td>151.1</td>\n",
              "      <td>3.7</td>\n",
              "      <td>708181.8</td>\n",
              "    </tr>\n",
              "    <tr>\n",
              "      <th>std</th>\n",
              "      <td>18.1</td>\n",
              "      <td>1791408.3</td>\n",
              "      <td>1.2</td>\n",
              "      <td>165.7</td>\n",
              "      <td>2.4</td>\n",
              "      <td>1828005.9</td>\n",
              "    </tr>\n",
              "    <tr>\n",
              "      <th>min</th>\n",
              "      <td>45.0</td>\n",
              "      <td>1.0</td>\n",
              "      <td>0.0</td>\n",
              "      <td>0.0</td>\n",
              "      <td>0.0</td>\n",
              "      <td>1.0</td>\n",
              "    </tr>\n",
              "    <tr>\n",
              "      <th>25%</th>\n",
              "      <td>89.0</td>\n",
              "      <td>20380.0</td>\n",
              "      <td>0.0</td>\n",
              "      <td>17.0</td>\n",
              "      <td>2.0</td>\n",
              "      <td>1297.2</td>\n",
              "    </tr>\n",
              "    <tr>\n",
              "      <th>50%</th>\n",
              "      <td>100.0</td>\n",
              "      <td>478423.6</td>\n",
              "      <td>0.0</td>\n",
              "      <td>82.5</td>\n",
              "      <td>3.0</td>\n",
              "      <td>12591.0</td>\n",
              "    </tr>\n",
              "    <tr>\n",
              "      <th>75%</th>\n",
              "      <td>114.0</td>\n",
              "      <td>1286568.6</td>\n",
              "      <td>2.0</td>\n",
              "      <td>264.0</td>\n",
              "      <td>4.0</td>\n",
              "      <td>479886.8</td>\n",
              "    </tr>\n",
              "    <tr>\n",
              "      <th>max</th>\n",
              "      <td>180.0</td>\n",
              "      <td>17615314.0</td>\n",
              "      <td>5.0</td>\n",
              "      <td>869.0</td>\n",
              "      <td>25.0</td>\n",
              "      <td>14262766.0</td>\n",
              "    </tr>\n",
              "  </tbody>\n",
              "</table>\n",
              "</div>\n",
              "      <button class=\"colab-df-convert\" onclick=\"convertToInteractive('df-9234a910-3864-4d17-a8ef-49a1e928ef42')\"\n",
              "              title=\"Convert this dataframe to an interactive table.\"\n",
              "              style=\"display:none;\">\n",
              "        \n",
              "  <svg xmlns=\"http://www.w3.org/2000/svg\" height=\"24px\"viewBox=\"0 0 24 24\"\n",
              "       width=\"24px\">\n",
              "    <path d=\"M0 0h24v24H0V0z\" fill=\"none\"/>\n",
              "    <path d=\"M18.56 5.44l.94 2.06.94-2.06 2.06-.94-2.06-.94-.94-2.06-.94 2.06-2.06.94zm-11 1L8.5 8.5l.94-2.06 2.06-.94-2.06-.94L8.5 2.5l-.94 2.06-2.06.94zm10 10l.94 2.06.94-2.06 2.06-.94-2.06-.94-.94-2.06-.94 2.06-2.06.94z\"/><path d=\"M17.41 7.96l-1.37-1.37c-.4-.4-.92-.59-1.43-.59-.52 0-1.04.2-1.43.59L10.3 9.45l-7.72 7.72c-.78.78-.78 2.05 0 2.83L4 21.41c.39.39.9.59 1.41.59.51 0 1.02-.2 1.41-.59l7.78-7.78 2.81-2.81c.8-.78.8-2.07 0-2.86zM5.41 20L4 18.59l7.72-7.72 1.47 1.35L5.41 20z\"/>\n",
              "  </svg>\n",
              "      </button>\n",
              "      \n",
              "  <style>\n",
              "    .colab-df-container {\n",
              "      display:flex;\n",
              "      flex-wrap:wrap;\n",
              "      gap: 12px;\n",
              "    }\n",
              "\n",
              "    .colab-df-convert {\n",
              "      background-color: #E8F0FE;\n",
              "      border: none;\n",
              "      border-radius: 50%;\n",
              "      cursor: pointer;\n",
              "      display: none;\n",
              "      fill: #1967D2;\n",
              "      height: 32px;\n",
              "      padding: 0 0 0 0;\n",
              "      width: 32px;\n",
              "    }\n",
              "\n",
              "    .colab-df-convert:hover {\n",
              "      background-color: #E2EBFA;\n",
              "      box-shadow: 0px 1px 2px rgba(60, 64, 67, 0.3), 0px 1px 3px 1px rgba(60, 64, 67, 0.15);\n",
              "      fill: #174EA6;\n",
              "    }\n",
              "\n",
              "    [theme=dark] .colab-df-convert {\n",
              "      background-color: #3B4455;\n",
              "      fill: #D2E3FC;\n",
              "    }\n",
              "\n",
              "    [theme=dark] .colab-df-convert:hover {\n",
              "      background-color: #434B5C;\n",
              "      box-shadow: 0px 1px 3px 1px rgba(0, 0, 0, 0.15);\n",
              "      filter: drop-shadow(0px 1px 2px rgba(0, 0, 0, 0.3));\n",
              "      fill: #FFFFFF;\n",
              "    }\n",
              "  </style>\n",
              "\n",
              "      <script>\n",
              "        const buttonEl =\n",
              "          document.querySelector('#df-9234a910-3864-4d17-a8ef-49a1e928ef42 button.colab-df-convert');\n",
              "        buttonEl.style.display =\n",
              "          google.colab.kernel.accessAllowed ? 'block' : 'none';\n",
              "\n",
              "        async function convertToInteractive(key) {\n",
              "          const element = document.querySelector('#df-9234a910-3864-4d17-a8ef-49a1e928ef42');\n",
              "          const dataTable =\n",
              "            await google.colab.kernel.invokeFunction('convertToInteractive',\n",
              "                                                     [key], {});\n",
              "          if (!dataTable) return;\n",
              "\n",
              "          const docLinkHtml = 'Like what you see? Visit the ' +\n",
              "            '<a target=\"_blank\" href=https://colab.research.google.com/notebooks/data_table.ipynb>data table notebook</a>'\n",
              "            + ' to learn more about interactive tables.';\n",
              "          element.innerHTML = '';\n",
              "          dataTable['output_type'] = 'display_data';\n",
              "          await google.colab.output.renderOutput(dataTable, element);\n",
              "          const docLink = document.createElement('div');\n",
              "          docLink.innerHTML = docLinkHtml;\n",
              "          element.appendChild(docLink);\n",
              "        }\n",
              "      </script>\n",
              "    </div>\n",
              "  </div>\n",
              "  "
            ]
          },
          "metadata": {},
          "execution_count": 157
        }
      ]
    },
    {
      "cell_type": "markdown",
      "source": [
        "영화별 \n",
        "평균 스태프 151명\n",
        "평균 배우 3.7명\n",
        "평균 시간 100분\n",
        "평균 관객수 70만"
      ],
      "metadata": {
        "id": "7Y9NbAHcbHMZ"
      }
    },
    {
      "cell_type": "code",
      "source": [
        "train['box_off_num'].describe()"
      ],
      "metadata": {
        "colab": {
          "base_uri": "https://localhost:8080/"
        },
        "id": "PrkYxZRFZqyt",
        "outputId": "b7afb8d3-49fe-42c8-c708-dad84b11f466"
      },
      "execution_count": null,
      "outputs": [
        {
          "output_type": "execute_result",
          "data": {
            "text/plain": [
              "count        600.0\n",
              "mean      708181.8\n",
              "std      1828005.9\n",
              "min            1.0\n",
              "25%         1297.2\n",
              "50%        12591.0\n",
              "75%       479886.8\n",
              "max     14262766.0\n",
              "Name: box_off_num, dtype: float64"
            ]
          },
          "metadata": {},
          "execution_count": 158
        }
      ]
    },
    {
      "cell_type": "markdown",
      "source": [
        "총 600개의 데이터\n",
        "\n",
        "평균관객수 : 708181.8 약 70만\n",
        "\n",
        "표준편차 : 1828006 약 180만\n",
        "\n",
        "min : 1\n",
        "\n",
        "max : 약 1400만\n",
        "\n",
        "이러한 데이터로 이루어져 있습니다."
      ],
      "metadata": {
        "id": "4xEcBiQaZsfU"
      }
    },
    {
      "cell_type": "code",
      "source": [
        "train[['genre', 'box_off_num']].groupby('genre').mean().sort_values('box_off_num')"
      ],
      "metadata": {
        "colab": {
          "base_uri": "https://localhost:8080/",
          "height": 457
        },
        "id": "tB2DI3ohcE_P",
        "outputId": "67bdea82-b5e0-4179-bb92-20288593276d"
      },
      "execution_count": null,
      "outputs": [
        {
          "output_type": "execute_result",
          "data": {
            "text/plain": [
              "        box_off_num\n",
              "genre              \n",
              "뮤지컬          6627.0\n",
              "다큐멘터리       67172.3\n",
              "서스펜스        82611.0\n",
              "애니메이션      181926.7\n",
              "멜로/로맨스     425968.0\n",
              "미스터리       527548.2\n",
              "공포         590832.5\n",
              "드라마        625689.8\n",
              "코미디       1193914.0\n",
              "SF        1788345.7\n",
              "액션        2203974.1\n",
              "느와르       2263695.1"
            ],
            "text/html": [
              "\n",
              "  <div id=\"df-4e91cea7-3511-477a-b365-880bdaa800e3\">\n",
              "    <div class=\"colab-df-container\">\n",
              "      <div>\n",
              "<style scoped>\n",
              "    .dataframe tbody tr th:only-of-type {\n",
              "        vertical-align: middle;\n",
              "    }\n",
              "\n",
              "    .dataframe tbody tr th {\n",
              "        vertical-align: top;\n",
              "    }\n",
              "\n",
              "    .dataframe thead th {\n",
              "        text-align: right;\n",
              "    }\n",
              "</style>\n",
              "<table border=\"1\" class=\"dataframe\">\n",
              "  <thead>\n",
              "    <tr style=\"text-align: right;\">\n",
              "      <th></th>\n",
              "      <th>box_off_num</th>\n",
              "    </tr>\n",
              "    <tr>\n",
              "      <th>genre</th>\n",
              "      <th></th>\n",
              "    </tr>\n",
              "  </thead>\n",
              "  <tbody>\n",
              "    <tr>\n",
              "      <th>뮤지컬</th>\n",
              "      <td>6627.0</td>\n",
              "    </tr>\n",
              "    <tr>\n",
              "      <th>다큐멘터리</th>\n",
              "      <td>67172.3</td>\n",
              "    </tr>\n",
              "    <tr>\n",
              "      <th>서스펜스</th>\n",
              "      <td>82611.0</td>\n",
              "    </tr>\n",
              "    <tr>\n",
              "      <th>애니메이션</th>\n",
              "      <td>181926.7</td>\n",
              "    </tr>\n",
              "    <tr>\n",
              "      <th>멜로/로맨스</th>\n",
              "      <td>425968.0</td>\n",
              "    </tr>\n",
              "    <tr>\n",
              "      <th>미스터리</th>\n",
              "      <td>527548.2</td>\n",
              "    </tr>\n",
              "    <tr>\n",
              "      <th>공포</th>\n",
              "      <td>590832.5</td>\n",
              "    </tr>\n",
              "    <tr>\n",
              "      <th>드라마</th>\n",
              "      <td>625689.8</td>\n",
              "    </tr>\n",
              "    <tr>\n",
              "      <th>코미디</th>\n",
              "      <td>1193914.0</td>\n",
              "    </tr>\n",
              "    <tr>\n",
              "      <th>SF</th>\n",
              "      <td>1788345.7</td>\n",
              "    </tr>\n",
              "    <tr>\n",
              "      <th>액션</th>\n",
              "      <td>2203974.1</td>\n",
              "    </tr>\n",
              "    <tr>\n",
              "      <th>느와르</th>\n",
              "      <td>2263695.1</td>\n",
              "    </tr>\n",
              "  </tbody>\n",
              "</table>\n",
              "</div>\n",
              "      <button class=\"colab-df-convert\" onclick=\"convertToInteractive('df-4e91cea7-3511-477a-b365-880bdaa800e3')\"\n",
              "              title=\"Convert this dataframe to an interactive table.\"\n",
              "              style=\"display:none;\">\n",
              "        \n",
              "  <svg xmlns=\"http://www.w3.org/2000/svg\" height=\"24px\"viewBox=\"0 0 24 24\"\n",
              "       width=\"24px\">\n",
              "    <path d=\"M0 0h24v24H0V0z\" fill=\"none\"/>\n",
              "    <path d=\"M18.56 5.44l.94 2.06.94-2.06 2.06-.94-2.06-.94-.94-2.06-.94 2.06-2.06.94zm-11 1L8.5 8.5l.94-2.06 2.06-.94-2.06-.94L8.5 2.5l-.94 2.06-2.06.94zm10 10l.94 2.06.94-2.06 2.06-.94-2.06-.94-.94-2.06-.94 2.06-2.06.94z\"/><path d=\"M17.41 7.96l-1.37-1.37c-.4-.4-.92-.59-1.43-.59-.52 0-1.04.2-1.43.59L10.3 9.45l-7.72 7.72c-.78.78-.78 2.05 0 2.83L4 21.41c.39.39.9.59 1.41.59.51 0 1.02-.2 1.41-.59l7.78-7.78 2.81-2.81c.8-.78.8-2.07 0-2.86zM5.41 20L4 18.59l7.72-7.72 1.47 1.35L5.41 20z\"/>\n",
              "  </svg>\n",
              "      </button>\n",
              "      \n",
              "  <style>\n",
              "    .colab-df-container {\n",
              "      display:flex;\n",
              "      flex-wrap:wrap;\n",
              "      gap: 12px;\n",
              "    }\n",
              "\n",
              "    .colab-df-convert {\n",
              "      background-color: #E8F0FE;\n",
              "      border: none;\n",
              "      border-radius: 50%;\n",
              "      cursor: pointer;\n",
              "      display: none;\n",
              "      fill: #1967D2;\n",
              "      height: 32px;\n",
              "      padding: 0 0 0 0;\n",
              "      width: 32px;\n",
              "    }\n",
              "\n",
              "    .colab-df-convert:hover {\n",
              "      background-color: #E2EBFA;\n",
              "      box-shadow: 0px 1px 2px rgba(60, 64, 67, 0.3), 0px 1px 3px 1px rgba(60, 64, 67, 0.15);\n",
              "      fill: #174EA6;\n",
              "    }\n",
              "\n",
              "    [theme=dark] .colab-df-convert {\n",
              "      background-color: #3B4455;\n",
              "      fill: #D2E3FC;\n",
              "    }\n",
              "\n",
              "    [theme=dark] .colab-df-convert:hover {\n",
              "      background-color: #434B5C;\n",
              "      box-shadow: 0px 1px 3px 1px rgba(0, 0, 0, 0.15);\n",
              "      filter: drop-shadow(0px 1px 2px rgba(0, 0, 0, 0.3));\n",
              "      fill: #FFFFFF;\n",
              "    }\n",
              "  </style>\n",
              "\n",
              "      <script>\n",
              "        const buttonEl =\n",
              "          document.querySelector('#df-4e91cea7-3511-477a-b365-880bdaa800e3 button.colab-df-convert');\n",
              "        buttonEl.style.display =\n",
              "          google.colab.kernel.accessAllowed ? 'block' : 'none';\n",
              "\n",
              "        async function convertToInteractive(key) {\n",
              "          const element = document.querySelector('#df-4e91cea7-3511-477a-b365-880bdaa800e3');\n",
              "          const dataTable =\n",
              "            await google.colab.kernel.invokeFunction('convertToInteractive',\n",
              "                                                     [key], {});\n",
              "          if (!dataTable) return;\n",
              "\n",
              "          const docLinkHtml = 'Like what you see? Visit the ' +\n",
              "            '<a target=\"_blank\" href=https://colab.research.google.com/notebooks/data_table.ipynb>data table notebook</a>'\n",
              "            + ' to learn more about interactive tables.';\n",
              "          element.innerHTML = '';\n",
              "          dataTable['output_type'] = 'display_data';\n",
              "          await google.colab.output.renderOutput(dataTable, element);\n",
              "          const docLink = document.createElement('div');\n",
              "          docLink.innerHTML = docLinkHtml;\n",
              "          element.appendChild(docLink);\n",
              "        }\n",
              "      </script>\n",
              "    </div>\n",
              "  </div>\n",
              "  "
            ]
          },
          "metadata": {},
          "execution_count": 159
        }
      ]
    },
    {
      "cell_type": "markdown",
      "source": [
        "느와르, 액션 sf 코미디 순으로 관객수가 높다"
      ],
      "metadata": {
        "id": "yJ7m7zC1cI3H"
      }
    },
    {
      "cell_type": "code",
      "source": [
        "sort_box = train.sort_values(by='box_off_num')\n",
        "sort_box[\"box_off_num\"][:300].describe()"
      ],
      "metadata": {
        "colab": {
          "base_uri": "https://localhost:8080/"
        },
        "id": "6SlF-IRyeGke",
        "outputId": "cbb6f45c-6846-4914-b453-1e2c8adb3ae4"
      },
      "execution_count": null,
      "outputs": [
        {
          "output_type": "execute_result",
          "data": {
            "text/plain": [
              "count     300.0\n",
              "mean     2493.3\n",
              "std      2878.9\n",
              "min         1.0\n",
              "25%       538.8\n",
              "50%      1296.5\n",
              "75%      3250.5\n",
              "max     12486.0\n",
              "Name: box_off_num, dtype: float64"
            ]
          },
          "metadata": {},
          "execution_count": 160
        }
      ]
    },
    {
      "cell_type": "code",
      "source": [
        "#시간과 관객의 관계\n",
        "sns.jointplot(x=\"box_off_num\",y=\"time\", data=train)"
      ],
      "metadata": {
        "colab": {
          "base_uri": "https://localhost:8080/",
          "height": 459
        },
        "id": "EG5Lpz-ze13h",
        "outputId": "9492d4ab-ae43-4908-b613-70d349ab7b14"
      },
      "execution_count": null,
      "outputs": [
        {
          "output_type": "execute_result",
          "data": {
            "text/plain": [
              "<seaborn.axisgrid.JointGrid at 0x7f91ad812430>"
            ]
          },
          "metadata": {},
          "execution_count": 161
        },
        {
          "output_type": "display_data",
          "data": {
            "text/plain": [
              "<Figure size 432x432 with 3 Axes>"
            ],
            "image/png": "[encoded data removed]"
          },
          "metadata": {
            "needs_background": "light"
          }
        }
      ]
    },
    {
      "cell_type": "markdown",
      "source": [
        "120~140분 관객 많고, 80분 이하로는 적어짐"
      ],
      "metadata": {
        "id": "gnqn7wHYgJs6"
      }
    },
    {
      "cell_type": "markdown",
      "source": [
        "#상관관계 확인"
      ],
      "metadata": {
        "id": "63T_oEqjgprd"
      }
    },
    {
      "cell_type": "code",
      "source": [
        "pd.reset_option('display.float_format')\n",
        "train.corr()"
      ],
      "metadata": {
        "colab": {
          "base_uri": "https://localhost:8080/",
          "height": 237
        },
        "id": "N8Uh50kHguE5",
        "outputId": "7c0965c3-eed1-405e-bcd6-6f648d84bb9e"
      },
      "execution_count": null,
      "outputs": [
        {
          "output_type": "execute_result",
          "data": {
            "text/plain": [
              "                    time  dir_prev_bfnum  dir_prev_num  num_staff  num_actor  \\\n",
              "time            1.000000        0.264675      0.306727   0.623205   0.114153   \n",
              "dir_prev_bfnum  0.264675        1.000000      0.131822   0.323521   0.083818   \n",
              "dir_prev_num    0.306727        0.131822      1.000000   0.450706   0.014006   \n",
              "num_staff       0.623205        0.323521      0.450706   1.000000   0.077871   \n",
              "num_actor       0.114153        0.083818      0.014006   0.077871   1.000000   \n",
              "box_off_num     0.441452        0.283184      0.259674   0.544265   0.111179   \n",
              "\n",
              "                box_off_num  \n",
              "time               0.441452  \n",
              "dir_prev_bfnum     0.283184  \n",
              "dir_prev_num       0.259674  \n",
              "num_staff          0.544265  \n",
              "num_actor          0.111179  \n",
              "box_off_num        1.000000  "
            ],
            "text/html": [
              "\n",
              "  <div id=\"df-27290739-5080-4fd8-8199-ac375af340ed\">\n",
              "    <div class=\"colab-df-container\">\n",
              "      <div>\n",
              "<style scoped>\n",
              "    .dataframe tbody tr th:only-of-type {\n",
              "        vertical-align: middle;\n",
              "    }\n",
              "\n",
              "    .dataframe tbody tr th {\n",
              "        vertical-align: top;\n",
              "    }\n",
              "\n",
              "    .dataframe thead th {\n",
              "        text-align: right;\n",
              "    }\n",
              "</style>\n",
              "<table border=\"1\" class=\"dataframe\">\n",
              "  <thead>\n",
              "    <tr style=\"text-align: right;\">\n",
              "      <th></th>\n",
              "      <th>time</th>\n",
              "      <th>dir_prev_bfnum</th>\n",
              "      <th>dir_prev_num</th>\n",
              "      <th>num_staff</th>\n",
              "      <th>num_actor</th>\n",
              "      <th>box_off_num</th>\n",
              "    </tr>\n",
              "  </thead>\n",
              "  <tbody>\n",
              "    <tr>\n",
              "      <th>time</th>\n",
              "      <td>1.000000</td>\n",
              "      <td>0.264675</td>\n",
              "      <td>0.306727</td>\n",
              "      <td>0.623205</td>\n",
              "      <td>0.114153</td>\n",
              "      <td>0.441452</td>\n",
              "    </tr>\n",
              "    <tr>\n",
              "      <th>dir_prev_bfnum</th>\n",
              "      <td>0.264675</td>\n",
              "      <td>1.000000</td>\n",
              "      <td>0.131822</td>\n",
              "      <td>0.323521</td>\n",
              "      <td>0.083818</td>\n",
              "      <td>0.283184</td>\n",
              "    </tr>\n",
              "    <tr>\n",
              "      <th>dir_prev_num</th>\n",
              "      <td>0.306727</td>\n",
              "      <td>0.131822</td>\n",
              "      <td>1.000000</td>\n",
              "      <td>0.450706</td>\n",
              "      <td>0.014006</td>\n",
              "      <td>0.259674</td>\n",
              "    </tr>\n",
              "    <tr>\n",
              "      <th>num_staff</th>\n",
              "      <td>0.623205</td>\n",
              "      <td>0.323521</td>\n",
              "      <td>0.450706</td>\n",
              "      <td>1.000000</td>\n",
              "      <td>0.077871</td>\n",
              "      <td>0.544265</td>\n",
              "    </tr>\n",
              "    <tr>\n",
              "      <th>num_actor</th>\n",
              "      <td>0.114153</td>\n",
              "      <td>0.083818</td>\n",
              "      <td>0.014006</td>\n",
              "      <td>0.077871</td>\n",
              "      <td>1.000000</td>\n",
              "      <td>0.111179</td>\n",
              "    </tr>\n",
              "    <tr>\n",
              "      <th>box_off_num</th>\n",
              "      <td>0.441452</td>\n",
              "      <td>0.283184</td>\n",
              "      <td>0.259674</td>\n",
              "      <td>0.544265</td>\n",
              "      <td>0.111179</td>\n",
              "      <td>1.000000</td>\n",
              "    </tr>\n",
              "  </tbody>\n",
              "</table>\n",
              "</div>\n",
              "      <button class=\"colab-df-convert\" onclick=\"convertToInteractive('df-27290739-5080-4fd8-8199-ac375af340ed')\"\n",
              "              title=\"Convert this dataframe to an interactive table.\"\n",
              "              style=\"display:none;\">\n",
              "        \n",
              "  <svg xmlns=\"http://www.w3.org/2000/svg\" height=\"24px\"viewBox=\"0 0 24 24\"\n",
              "       width=\"24px\">\n",
              "    <path d=\"M0 0h24v24H0V0z\" fill=\"none\"/>\n",
              "    <path d=\"M18.56 5.44l.94 2.06.94-2.06 2.06-.94-2.06-.94-.94-2.06-.94 2.06-2.06.94zm-11 1L8.5 8.5l.94-2.06 2.06-.94-2.06-.94L8.5 2.5l-.94 2.06-2.06.94zm10 10l.94 2.06.94-2.06 2.06-.94-2.06-.94-.94-2.06-.94 2.06-2.06.94z\"/><path d=\"M17.41 7.96l-1.37-1.37c-.4-.4-.92-.59-1.43-.59-.52 0-1.04.2-1.43.59L10.3 9.45l-7.72 7.72c-.78.78-.78 2.05 0 2.83L4 21.41c.39.39.9.59 1.41.59.51 0 1.02-.2 1.41-.59l7.78-7.78 2.81-2.81c.8-.78.8-2.07 0-2.86zM5.41 20L4 18.59l7.72-7.72 1.47 1.35L5.41 20z\"/>\n",
              "  </svg>\n",
              "      </button>\n",
              "      \n",
              "  <style>\n",
              "    .colab-df-container {\n",
              "      display:flex;\n",
              "      flex-wrap:wrap;\n",
              "      gap: 12px;\n",
              "    }\n",
              "\n",
              "    .colab-df-convert {\n",
              "      background-color: #E8F0FE;\n",
              "      border: none;\n",
              "      border-radius: 50%;\n",
              "      cursor: pointer;\n",
              "      display: none;\n",
              "      fill: #1967D2;\n",
              "      height: 32px;\n",
              "      padding: 0 0 0 0;\n",
              "      width: 32px;\n",
              "    }\n",
              "\n",
              "    .colab-df-convert:hover {\n",
              "      background-color: #E2EBFA;\n",
              "      box-shadow: 0px 1px 2px rgba(60, 64, 67, 0.3), 0px 1px 3px 1px rgba(60, 64, 67, 0.15);\n",
              "      fill: #174EA6;\n",
              "    }\n",
              "\n",
              "    [theme=dark] .colab-df-convert {\n",
              "      background-color: #3B4455;\n",
              "      fill: #D2E3FC;\n",
              "    }\n",
              "\n",
              "    [theme=dark] .colab-df-convert:hover {\n",
              "      background-color: #434B5C;\n",
              "      box-shadow: 0px 1px 3px 1px rgba(0, 0, 0, 0.15);\n",
              "      filter: drop-shadow(0px 1px 2px rgba(0, 0, 0, 0.3));\n",
              "      fill: #FFFFFF;\n",
              "    }\n",
              "  </style>\n",
              "\n",
              "      <script>\n",
              "        const buttonEl =\n",
              "          document.querySelector('#df-27290739-5080-4fd8-8199-ac375af340ed button.colab-df-convert');\n",
              "        buttonEl.style.display =\n",
              "          google.colab.kernel.accessAllowed ? 'block' : 'none';\n",
              "\n",
              "        async function convertToInteractive(key) {\n",
              "          const element = document.querySelector('#df-27290739-5080-4fd8-8199-ac375af340ed');\n",
              "          const dataTable =\n",
              "            await google.colab.kernel.invokeFunction('convertToInteractive',\n",
              "                                                     [key], {});\n",
              "          if (!dataTable) return;\n",
              "\n",
              "          const docLinkHtml = 'Like what you see? Visit the ' +\n",
              "            '<a target=\"_blank\" href=https://colab.research.google.com/notebooks/data_table.ipynb>data table notebook</a>'\n",
              "            + ' to learn more about interactive tables.';\n",
              "          element.innerHTML = '';\n",
              "          dataTable['output_type'] = 'display_data';\n",
              "          await google.colab.output.renderOutput(dataTable, element);\n",
              "          const docLink = document.createElement('div');\n",
              "          docLink.innerHTML = docLinkHtml;\n",
              "          element.appendChild(docLink);\n",
              "        }\n",
              "      </script>\n",
              "    </div>\n",
              "  </div>\n",
              "  "
            ]
          },
          "metadata": {},
          "execution_count": 162
        }
      ]
    },
    {
      "cell_type": "code",
      "source": [
        "sns.heatmap(train.corr(), annot = True,fmt = '.1f', cmap=\"summer\")"
      ],
      "metadata": {
        "colab": {
          "base_uri": "https://localhost:8080/",
          "height": 355
        },
        "id": "W22jg4tEhK9i",
        "outputId": "aac2f149-2e78-4529-859d-384aee5a84e1"
      },
      "execution_count": null,
      "outputs": [
        {
          "output_type": "execute_result",
          "data": {
            "text/plain": [
              "<matplotlib.axes._subplots.AxesSubplot at 0x7f91ad3aa460>"
            ]
          },
          "metadata": {},
          "execution_count": 163
        },
        {
          "output_type": "display_data",
          "data": {
            "text/plain": [
              "<Figure size 432x288 with 2 Axes>"
            ],
            "image/png": "[encoded data removed]"
          },
          "metadata": {
            "needs_background": "light"
          }
        }
      ]
    },
    {
      "cell_type": "markdown",
      "source": [
        "관객수의 관계가 깊은 변수들을 확인해보니\n",
        "선형관계가 강한것은 영화 제작에 참여한 스태프수가 많을수록 영화 관객수가 많아지는 경향이 있습니다.\n",
        "투입 자원이 큰 영화 일수록 그만큼의 마케팅이나 상영 횟수가 일반적으로 많다\n",
        "상영시간이 길수록 관객수도 증가하는 히트맵"
      ],
      "metadata": {
        "id": "F5ILvhkmhtIw"
      }
    },
    {
      "cell_type": "markdown",
      "source": [
        "#Feature Engineering"
      ],
      "metadata": {
        "id": "z-7-MVsZZZ9_"
      }
    },
    {
      "cell_type": "markdown",
      "source": [
        "모델 학습 및 검증\n",
        "LightGMB"
      ],
      "metadata": {
        "id": "T49X07oFtO8d"
      }
    },
    {
      "cell_type": "code",
      "source": [
        "import lightgbm as lgb\n",
        "model = lgb.LGBMRegressor(random_state = 42, n_estimators = 1000)"
      ],
      "metadata": {
        "id": "7sQnslMkoXH6"
      },
      "execution_count": null,
      "outputs": []
    },
    {
      "cell_type": "code",
      "source": [
        "feature = [\"time\", \"dir_prev_num\",\"num_staff\",\"num_actor\"]\n",
        "target = [\"box_off_num\"]"
      ],
      "metadata": {
        "id": "jVeEL9ZloXkw"
      },
      "execution_count": null,
      "outputs": []
    },
    {
      "cell_type": "code",
      "source": [
        "!pip install scikit-learn==0.24.2\n",
        "!pip install category_encoders"
      ],
      "metadata": {
        "colab": {
          "base_uri": "https://localhost:8080/"
        },
        "id": "hf_gYxqCKr6c",
        "outputId": "63f59e9a-771e-463c-9a5d-b1a9a3ff075e"
      },
      "execution_count": null,
      "outputs": [
        {
          "output_type": "stream",
          "name": "stdout",
          "text": [
            "Looking in indexes: https://pypi.org/simple, https://us-python.pkg.dev/colab-wheels/public/simple/\n",
            "Requirement already satisfied: scikit-learn==0.24.2 in /usr/local/lib/python3.8/dist-packages (0.24.2)\n",
            "Requirement already satisfied: numpy>=1.13.3 in /usr/local/lib/python3.8/dist-packages (from scikit-learn==0.24.2) (1.21.6)\n",
            "Requirement already satisfied: joblib>=0.11 in /usr/local/lib/python3.8/dist-packages (from scikit-learn==0.24.2) (1.2.0)\n",
            "Requirement already satisfied: scipy>=0.19.1 in /usr/local/lib/python3.8/dist-packages (from scikit-learn==0.24.2) (1.7.3)\n",
            "Requirement already satisfied: threadpoolctl>=2.0.0 in /usr/local/lib/python3.8/dist-packages (from scikit-learn==0.24.2) (3.1.0)\n",
            "Looking in indexes: https://pypi.org/simple, https://us-python.pkg.dev/colab-wheels/public/simple/\n",
            "Requirement already satisfied: category_encoders in /usr/local/lib/python3.8/dist-packages (2.5.1.post0)\n",
            "Requirement already satisfied: scipy>=1.0.0 in /usr/local/lib/python3.8/dist-packages (from category_encoders) (1.7.3)\n",
            "Requirement already satisfied: statsmodels>=0.9.0 in /usr/local/lib/python3.8/dist-packages (from category_encoders) (0.12.2)\n",
            "Requirement already satisfied: patsy>=0.5.1 in /usr/local/lib/python3.8/dist-packages (from category_encoders) (0.5.3)\n",
            "Requirement already satisfied: scikit-learn>=0.20.0 in /usr/local/lib/python3.8/dist-packages (from category_encoders) (0.24.2)\n",
            "Requirement already satisfied: pandas>=1.0.5 in /usr/local/lib/python3.8/dist-packages (from category_encoders) (1.3.5)\n",
            "Requirement already satisfied: numpy>=1.14.0 in /usr/local/lib/python3.8/dist-packages (from category_encoders) (1.21.6)\n",
            "Requirement already satisfied: pytz>=2017.3 in /usr/local/lib/python3.8/dist-packages (from pandas>=1.0.5->category_encoders) (2022.6)\n",
            "Requirement already satisfied: python-dateutil>=2.7.3 in /usr/local/lib/python3.8/dist-packages (from pandas>=1.0.5->category_encoders) (2.8.2)\n",
            "Requirement already satisfied: six in /usr/local/lib/python3.8/dist-packages (from patsy>=0.5.1->category_encoders) (1.15.0)\n",
            "Requirement already satisfied: joblib>=0.11 in /usr/local/lib/python3.8/dist-packages (from scikit-learn>=0.20.0->category_encoders) (1.2.0)\n",
            "Requirement already satisfied: threadpoolctl>=2.0.0 in /usr/local/lib/python3.8/dist-packages (from scikit-learn>=0.20.0->category_encoders) (3.1.0)\n"
          ]
        }
      ]
    },
    {
      "cell_type": "code",
      "source": [
        "le = preprocessing.LabelEncoder()\n",
        "train.genre"
      ],
      "metadata": {
        "colab": {
          "base_uri": "https://localhost:8080/"
        },
        "id": "S8C1Xi-UK293",
        "outputId": "370f7968-afc3-4557-a706-42946b192c68"
      },
      "execution_count": null,
      "outputs": [
        {
          "output_type": "execute_result",
          "data": {
            "text/plain": [
              "0      10\n",
              "1       2\n",
              "2      10\n",
              "3      11\n",
              "4      11\n",
              "       ..\n",
              "595     4\n",
              "596     4\n",
              "597     1\n",
              "598     2\n",
              "599    10\n",
              "Name: genre, Length: 600, dtype: int64"
            ]
          },
          "metadata": {},
          "execution_count": 244
        }
      ]
    },
    {
      "cell_type": "markdown",
      "source": [],
      "metadata": {
        "id": "X4L53L7GtH9z"
      }
    },
    {
      "cell_type": "code",
      "source": [
        "X_train = train[features]\n",
        "Y_train = train[target]\n",
        "X_test = teat[features]"
      ],
      "metadata": {
        "id": "2t2bWMCAoX9O"
      },
      "execution_count": null,
      "outputs": []
    },
    {
      "cell_type": "code",
      "source": [
        "model = lgb.LGBMRegressor(random_state = 45, n_estimators=1000)\n",
        "models = [ ]\n",
        "for train_idx, val_idx in k_fold.split(X_train):\n",
        "    x_t = X_train.iloc[train_idx]\n",
        "    y_t = Y_train.iloc[train_idx]\n",
        "    x_val = X_train.iloc[val_idx]\n",
        "    y_val = Y_train.iloc[val_idx]\n",
        "    models.append(model.fit(x_t, y_t, eval_set=(x_val, y_val), early_stopping_rounds=100, verbose = 100))"
      ],
      "metadata": {
        "colab": {
          "base_uri": "https://localhost:8080/"
        },
        "id": "Q_AyCvDUqnvo",
        "outputId": "d42ef8d9-9cfe-4a70-b704-a512a0175a24"
      },
      "execution_count": null,
      "outputs": [
        {
          "output_type": "stream",
          "name": "stdout",
          "text": [
            "Training until validation scores don't improve for 100 rounds.\n",
            "[100]\tvalid_0's l2: 1.94898e+12\n",
            "Early stopping, best iteration is:\n",
            "[6]\tvalid_0's l2: 1.24775e+12\n",
            "Training until validation scores don't improve for 100 rounds.\n",
            "[100]\tvalid_0's l2: 1.12928e+12\n",
            "Early stopping, best iteration is:\n",
            "[51]\tvalid_0's l2: 9.70145e+11\n",
            "Training until validation scores don't improve for 100 rounds.\n",
            "[100]\tvalid_0's l2: 2.34143e+12\n",
            "Early stopping, best iteration is:\n",
            "[37]\tvalid_0's l2: 2.26324e+12\n",
            "Training until validation scores don't improve for 100 rounds.\n",
            "[100]\tvalid_0's l2: 2.70532e+12\n",
            "[200]\tvalid_0's l2: 2.68141e+12\n",
            "Early stopping, best iteration is:\n",
            "[127]\tvalid_0's l2: 2.66817e+12\n",
            "Training until validation scores don't improve for 100 rounds.\n",
            "[100]\tvalid_0's l2: 3.22814e+12\n",
            "Early stopping, best iteration is:\n",
            "[39]\tvalid_0's l2: 3.07138e+12\n"
          ]
        }
      ]
    },
    {
      "cell_type": "markdown",
      "source": [
        "LGBMRegressor모델을 만들어 보려 합니다.\n",
        "\n",
        "어느 pc에서라도 결과값이 같게 random_state =42로 고정시켜주고\n",
        "\n",
        "features라는 변수를 만들고 train의 수치형 변수들만 넣어줍니다.\n",
        "\n",
        "그리고 y_train은 train에서 y값이라 할 수 있는 관객수를 넣어 주었습니다."
      ],
      "metadata": {
        "id": "-IM0y-ZQqqZP"
      }
    },
    {
      "cell_type": "code",
      "source": [
        "X_train.shape"
      ],
      "metadata": {
        "colab": {
          "base_uri": "https://localhost:8080/"
        },
        "id": "JkCt8t53oYLj",
        "outputId": "cbeffc1c-0d13-4734-ce4f-c4f70766f979"
      },
      "execution_count": null,
      "outputs": [
        {
          "output_type": "execute_result",
          "data": {
            "text/plain": [
              "(600, 8)"
            ]
          },
          "metadata": {},
          "execution_count": 145
        }
      ]
    },
    {
      "cell_type": "markdown",
      "source": [
        "모델 학습 및 검증\n",
        "\n",
        "LightGBM 부스팅 모델 기존 모델이 못 맞춘 문제에 가중치를 두어 지속적으로 학습을 이어나가게 함\n",
        "순서"
      ],
      "metadata": {
        "id": "TeG4-KEJq6ip"
      }
    },
    {
      "cell_type": "code",
      "source": [
        "train['dir_exp'] = train['dir_prev_num'] >= 1\n",
        "train['dir_exp'].nunique()"
      ],
      "metadata": {
        "colab": {
          "base_uri": "https://localhost:8080/"
        },
        "id": "n3mJ6cbFEm2E",
        "outputId": "b1f9734b-9c1f-4da2-9180-953cf7920cf0"
      },
      "execution_count": null,
      "outputs": [
        {
          "output_type": "execute_result",
          "data": {
            "text/plain": [
              "2"
            ]
          },
          "metadata": {},
          "execution_count": 230
        }
      ]
    },
    {
      "cell_type": "code",
      "source": [
        "test['dir_exp'] = test['dir_prev_num'] >= 1\n",
        "test['dir_exp'].nunique()"
      ],
      "metadata": {
        "colab": {
          "base_uri": "https://localhost:8080/"
        },
        "id": "MGJzuLCzEsQO",
        "outputId": "7f03f58c-09fa-4048-9dc2-f0894c163838"
      },
      "execution_count": null,
      "outputs": [
        {
          "output_type": "execute_result",
          "data": {
            "text/plain": [
              "2"
            ]
          },
          "metadata": {},
          "execution_count": 231
        }
      ]
    },
    {
      "cell_type": "code",
      "source": [
        "model.fit(X_train, Y_train)"
      ],
      "metadata": {
        "colab": {
          "base_uri": "https://localhost:8080/"
        },
        "id": "ZRs77vEMoYh0",
        "outputId": "b547a84b-b984-478a-a7eb-5d7cf5bf0ff4"
      },
      "execution_count": null,
      "outputs": [
        {
          "output_type": "execute_result",
          "data": {
            "text/plain": [
              "LGBMRegressor(n_estimators=1000, random_state=42)"
            ]
          },
          "metadata": {},
          "execution_count": 170
        }
      ]
    },
    {
      "cell_type": "code",
      "source": [
        "singleLGBM = submission.copy()"
      ],
      "metadata": {
        "id": "OyGtK3s0oYx5"
      },
      "execution_count": null,
      "outputs": []
    },
    {
      "cell_type": "code",
      "source": [
        "singleLGBM.head()\n",
        "singleLGBM[\"box_off_num\"] = model.predict(X_test)\n",
        "singleLGBM.head()"
      ],
      "metadata": {
        "colab": {
          "base_uri": "https://localhost:8080/",
          "height": 206
        },
        "id": "MHZoWVJ8oY-E",
        "outputId": "ed06dbb2-81e6-4e03-816c-b7745506fbb6"
      },
      "execution_count": null,
      "outputs": [
        {
          "output_type": "execute_result",
          "data": {
            "text/plain": [
              "         title   box_off_num\n",
              "0       용서는 없다  1.047472e+06\n",
              "1  아빠가 여자를 좋아해  1.977669e+06\n",
              "2          하모니 -2.028072e+06\n",
              "3          의형제  3.517802e+06\n",
              "4        평행 이론  5.647148e+05"
            ],
            "text/html": [
              "\n",
              "  <div id=\"df-a2902a61-56f5-458c-87b6-117d24f5a2f5\">\n",
              "    <div class=\"colab-df-container\">\n",
              "      <div>\n",
              "<style scoped>\n",
              "    .dataframe tbody tr th:only-of-type {\n",
              "        vertical-align: middle;\n",
              "    }\n",
              "\n",
              "    .dataframe tbody tr th {\n",
              "        vertical-align: top;\n",
              "    }\n",
              "\n",
              "    .dataframe thead th {\n",
              "        text-align: right;\n",
              "    }\n",
              "</style>\n",
              "<table border=\"1\" class=\"dataframe\">\n",
              "  <thead>\n",
              "    <tr style=\"text-align: right;\">\n",
              "      <th></th>\n",
              "      <th>title</th>\n",
              "      <th>box_off_num</th>\n",
              "    </tr>\n",
              "  </thead>\n",
              "  <tbody>\n",
              "    <tr>\n",
              "      <th>0</th>\n",
              "      <td>용서는 없다</td>\n",
              "      <td>1.047472e+06</td>\n",
              "    </tr>\n",
              "    <tr>\n",
              "      <th>1</th>\n",
              "      <td>아빠가 여자를 좋아해</td>\n",
              "      <td>1.977669e+06</td>\n",
              "    </tr>\n",
              "    <tr>\n",
              "      <th>2</th>\n",
              "      <td>하모니</td>\n",
              "      <td>-2.028072e+06</td>\n",
              "    </tr>\n",
              "    <tr>\n",
              "      <th>3</th>\n",
              "      <td>의형제</td>\n",
              "      <td>3.517802e+06</td>\n",
              "    </tr>\n",
              "    <tr>\n",
              "      <th>4</th>\n",
              "      <td>평행 이론</td>\n",
              "      <td>5.647148e+05</td>\n",
              "    </tr>\n",
              "  </tbody>\n",
              "</table>\n",
              "</div>\n",
              "      <button class=\"colab-df-convert\" onclick=\"convertToInteractive('df-a2902a61-56f5-458c-87b6-117d24f5a2f5')\"\n",
              "              title=\"Convert this dataframe to an interactive table.\"\n",
              "              style=\"display:none;\">\n",
              "        \n",
              "  <svg xmlns=\"http://www.w3.org/2000/svg\" height=\"24px\"viewBox=\"0 0 24 24\"\n",
              "       width=\"24px\">\n",
              "    <path d=\"M0 0h24v24H0V0z\" fill=\"none\"/>\n",
              "    <path d=\"M18.56 5.44l.94 2.06.94-2.06 2.06-.94-2.06-.94-.94-2.06-.94 2.06-2.06.94zm-11 1L8.5 8.5l.94-2.06 2.06-.94-2.06-.94L8.5 2.5l-.94 2.06-2.06.94zm10 10l.94 2.06.94-2.06 2.06-.94-2.06-.94-.94-2.06-.94 2.06-2.06.94z\"/><path d=\"M17.41 7.96l-1.37-1.37c-.4-.4-.92-.59-1.43-.59-.52 0-1.04.2-1.43.59L10.3 9.45l-7.72 7.72c-.78.78-.78 2.05 0 2.83L4 21.41c.39.39.9.59 1.41.59.51 0 1.02-.2 1.41-.59l7.78-7.78 2.81-2.81c.8-.78.8-2.07 0-2.86zM5.41 20L4 18.59l7.72-7.72 1.47 1.35L5.41 20z\"/>\n",
              "  </svg>\n",
              "      </button>\n",
              "      \n",
              "  <style>\n",
              "    .colab-df-container {\n",
              "      display:flex;\n",
              "      flex-wrap:wrap;\n",
              "      gap: 12px;\n",
              "    }\n",
              "\n",
              "    .colab-df-convert {\n",
              "      background-color: #E8F0FE;\n",
              "      border: none;\n",
              "      border-radius: 50%;\n",
              "      cursor: pointer;\n",
              "      display: none;\n",
              "      fill: #1967D2;\n",
              "      height: 32px;\n",
              "      padding: 0 0 0 0;\n",
              "      width: 32px;\n",
              "    }\n",
              "\n",
              "    .colab-df-convert:hover {\n",
              "      background-color: #E2EBFA;\n",
              "      box-shadow: 0px 1px 2px rgba(60, 64, 67, 0.3), 0px 1px 3px 1px rgba(60, 64, 67, 0.15);\n",
              "      fill: #174EA6;\n",
              "    }\n",
              "\n",
              "    [theme=dark] .colab-df-convert {\n",
              "      background-color: #3B4455;\n",
              "      fill: #D2E3FC;\n",
              "    }\n",
              "\n",
              "    [theme=dark] .colab-df-convert:hover {\n",
              "      background-color: #434B5C;\n",
              "      box-shadow: 0px 1px 3px 1px rgba(0, 0, 0, 0.15);\n",
              "      filter: drop-shadow(0px 1px 2px rgba(0, 0, 0, 0.3));\n",
              "      fill: #FFFFFF;\n",
              "    }\n",
              "  </style>\n",
              "\n",
              "      <script>\n",
              "        const buttonEl =\n",
              "          document.querySelector('#df-a2902a61-56f5-458c-87b6-117d24f5a2f5 button.colab-df-convert');\n",
              "        buttonEl.style.display =\n",
              "          google.colab.kernel.accessAllowed ? 'block' : 'none';\n",
              "\n",
              "        async function convertToInteractive(key) {\n",
              "          const element = document.querySelector('#df-a2902a61-56f5-458c-87b6-117d24f5a2f5');\n",
              "          const dataTable =\n",
              "            await google.colab.kernel.invokeFunction('convertToInteractive',\n",
              "                                                     [key], {});\n",
              "          if (!dataTable) return;\n",
              "\n",
              "          const docLinkHtml = 'Like what you see? Visit the ' +\n",
              "            '<a target=\"_blank\" href=https://colab.research.google.com/notebooks/data_table.ipynb>data table notebook</a>'\n",
              "            + ' to learn more about interactive tables.';\n",
              "          element.innerHTML = '';\n",
              "          dataTable['output_type'] = 'display_data';\n",
              "          await google.colab.output.renderOutput(dataTable, element);\n",
              "          const docLink = document.createElement('div');\n",
              "          docLink.innerHTML = docLinkHtml;\n",
              "          element.appendChild(docLink);\n",
              "        }\n",
              "      </script>\n",
              "    </div>\n",
              "  </div>\n",
              "  "
            ]
          },
          "metadata": {},
          "execution_count": 175
        }
      ]
    },
    {
      "cell_type": "markdown",
      "source": [
        "그리고, 처음에 만든 모델을 가지고 X_train과 Y_train 데이터를 학습시키고, 학습시킨 모델로 X_test에 적용시켜 제출할 결과값을 만들었습니다.\n",
        "음수 값이 나온 점에서 모델의 성능이 좋지않다는것을 알수 있었습니다."
      ],
      "metadata": {
        "id": "pOlnoyv5stlS"
      }
    },
    {
      "cell_type": "markdown",
      "source": [
        "#K_FOLD"
      ],
      "metadata": {
        "id": "6catFAZItW3r"
      }
    },
    {
      "cell_type": "code",
      "source": [
        "from sklearn.model_selection import KFold"
      ],
      "metadata": {
        "id": "iglxOquOoZO3"
      },
      "execution_count": null,
      "outputs": []
    },
    {
      "cell_type": "code",
      "source": [
        "k_fold = KFold(n_splits= 5, shuffle=True, random_state = 45)"
      ],
      "metadata": {
        "id": "Av8Co6ce6zmq"
      },
      "execution_count": null,
      "outputs": []
    },
    {
      "cell_type": "code",
      "source": [
        "for train_idx, val_idx in k_fold.split(X_train):\n",
        "    print(len(train_idx), len(val_idx))\n",
        "    break"
      ],
      "metadata": {
        "colab": {
          "base_uri": "https://localhost:8080/"
        },
        "id": "X1pxAAdh7BUg",
        "outputId": "c066de60-a348-467b-877a-d7bef58d7f10"
      },
      "execution_count": null,
      "outputs": [
        {
          "output_type": "stream",
          "name": "stdout",
          "text": [
            "480 120\n"
          ]
        }
      ]
    },
    {
      "cell_type": "code",
      "source": [
        "model=lgb.LGBMRegressor(random_state = 45, n_estimators=1000)\n",
        "models = [ ]\n",
        "for train_idx, val_idx in k_fold.split(X_train):\n",
        "    x_t = X_train.iloc[train_idx]\n",
        "    y_t = Y_train.iloc[train_idx]\n",
        "    x_val = X_train.iloc[val_idx]\n",
        "    y_val = Y_train.iloc[val_idx]\n",
        "    models.append(model.fit(x_t, y_t, eval_set=(x_val, y_val), early_stopping_rounds=100, verbose = 100))"
      ],
      "metadata": {
        "colab": {
          "base_uri": "https://localhost:8080/"
        },
        "id": "pUk6f157-GA0",
        "outputId": "0ae41b4d-31ea-4969-e646-1ec6629c4f03"
      },
      "execution_count": null,
      "outputs": [
        {
          "output_type": "stream",
          "name": "stdout",
          "text": [
            "Training until validation scores don't improve for 100 rounds.\n",
            "[100]\tvalid_0's l2: 3.68198e+12\n",
            "Early stopping, best iteration is:\n",
            "[12]\tvalid_0's l2: 3.05053e+12\n",
            "Training until validation scores don't improve for 100 rounds.\n",
            "[100]\tvalid_0's l2: 3.05887e+12\n",
            "Early stopping, best iteration is:\n",
            "[91]\tvalid_0's l2: 3.0159e+12\n",
            "Training until validation scores don't improve for 100 rounds.\n",
            "[100]\tvalid_0's l2: 2.00974e+12\n",
            "Early stopping, best iteration is:\n",
            "[10]\tvalid_0's l2: 1.65492e+12\n",
            "Training until validation scores don't improve for 100 rounds.\n",
            "[100]\tvalid_0's l2: 2.58135e+12\n",
            "Early stopping, best iteration is:\n",
            "[25]\tvalid_0's l2: 2.04714e+12\n",
            "Training until validation scores don't improve for 100 rounds.\n",
            "[100]\tvalid_0's l2: 1.87528e+12\n",
            "Early stopping, best iteration is:\n",
            "[9]\tvalid_0's l2: 1.33798e+12\n"
          ]
        }
      ]
    },
    {
      "cell_type": "code",
      "source": [
        "models"
      ],
      "metadata": {
        "colab": {
          "base_uri": "https://localhost:8080/"
        },
        "id": "aJ8_Cz7p-y0u",
        "outputId": "2a9fb48d-a49a-4faf-dab5-fbc9d992a736"
      },
      "execution_count": null,
      "outputs": [
        {
          "output_type": "execute_result",
          "data": {
            "text/plain": [
              "[LGBMRegressor(n_estimators=1000, random_state=45),\n",
              " LGBMRegressor(n_estimators=1000, random_state=45),\n",
              " LGBMRegressor(n_estimators=1000, random_state=45),\n",
              " LGBMRegressor(n_estimators=1000, random_state=45),\n",
              " LGBMRegressor(n_estimators=1000, random_state=45)]"
            ]
          },
          "metadata": {},
          "execution_count": 189
        }
      ]
    },
    {
      "cell_type": "code",
      "source": [
        "preds = []\n",
        "for model in models:\n",
        "    preds.append(model.predict(X_test))\n",
        "len(preds)"
      ],
      "metadata": {
        "colab": {
          "base_uri": "https://localhost:8080/"
        },
        "id": "KQwdX-PX--M-",
        "outputId": "3e6bc48b-d8d7-4fea-d2ee-a1c6396ae216"
      },
      "execution_count": null,
      "outputs": [
        {
          "output_type": "execute_result",
          "data": {
            "text/plain": [
              "5"
            ]
          },
          "metadata": {},
          "execution_count": 190
        }
      ]
    },
    {
      "cell_type": "code",
      "source": [
        "kfoldLightGBM[\"box_off_num\"] = np.mean(preds, axis = 0)"
      ],
      "metadata": {
        "id": "yTseI4Mu_Fwc"
      },
      "execution_count": null,
      "outputs": []
    },
    {
      "cell_type": "code",
      "source": [
        "kfoldLightGBM.head()"
      ],
      "metadata": {
        "colab": {
          "base_uri": "https://localhost:8080/",
          "height": 206
        },
        "id": "IxFmAMeG_6Ew",
        "outputId": "90b5299d-6d21-4868-e04c-b4d2209975cd"
      },
      "execution_count": null,
      "outputs": [
        {
          "output_type": "execute_result",
          "data": {
            "text/plain": [
              "         title   box_off_num\n",
              "0       용서는 없다  1.857480e+06\n",
              "1  아빠가 여자를 좋아해  8.890344e+05\n",
              "2          하모니  1.227155e+06\n",
              "3          의형제  1.356173e+06\n",
              "4        평행 이론  9.417537e+05"
            ],
            "text/html": [
              "\n",
              "  <div id=\"df-c1138046-4a8c-44ea-9ccd-5712bb87f69e\">\n",
              "    <div class=\"colab-df-container\">\n",
              "      <div>\n",
              "<style scoped>\n",
              "    .dataframe tbody tr th:only-of-type {\n",
              "        vertical-align: middle;\n",
              "    }\n",
              "\n",
              "    .dataframe tbody tr th {\n",
              "        vertical-align: top;\n",
              "    }\n",
              "\n",
              "    .dataframe thead th {\n",
              "        text-align: right;\n",
              "    }\n",
              "</style>\n",
              "<table border=\"1\" class=\"dataframe\">\n",
              "  <thead>\n",
              "    <tr style=\"text-align: right;\">\n",
              "      <th></th>\n",
              "      <th>title</th>\n",
              "      <th>box_off_num</th>\n",
              "    </tr>\n",
              "  </thead>\n",
              "  <tbody>\n",
              "    <tr>\n",
              "      <th>0</th>\n",
              "      <td>용서는 없다</td>\n",
              "      <td>1.857480e+06</td>\n",
              "    </tr>\n",
              "    <tr>\n",
              "      <th>1</th>\n",
              "      <td>아빠가 여자를 좋아해</td>\n",
              "      <td>8.890344e+05</td>\n",
              "    </tr>\n",
              "    <tr>\n",
              "      <th>2</th>\n",
              "      <td>하모니</td>\n",
              "      <td>1.227155e+06</td>\n",
              "    </tr>\n",
              "    <tr>\n",
              "      <th>3</th>\n",
              "      <td>의형제</td>\n",
              "      <td>1.356173e+06</td>\n",
              "    </tr>\n",
              "    <tr>\n",
              "      <th>4</th>\n",
              "      <td>평행 이론</td>\n",
              "      <td>9.417537e+05</td>\n",
              "    </tr>\n",
              "  </tbody>\n",
              "</table>\n",
              "</div>\n",
              "      <button class=\"colab-df-convert\" onclick=\"convertToInteractive('df-c1138046-4a8c-44ea-9ccd-5712bb87f69e')\"\n",
              "              title=\"Convert this dataframe to an interactive table.\"\n",
              "              style=\"display:none;\">\n",
              "        \n",
              "  <svg xmlns=\"http://www.w3.org/2000/svg\" height=\"24px\"viewBox=\"0 0 24 24\"\n",
              "       width=\"24px\">\n",
              "    <path d=\"M0 0h24v24H0V0z\" fill=\"none\"/>\n",
              "    <path d=\"M18.56 5.44l.94 2.06.94-2.06 2.06-.94-2.06-.94-.94-2.06-.94 2.06-2.06.94zm-11 1L8.5 8.5l.94-2.06 2.06-.94-2.06-.94L8.5 2.5l-.94 2.06-2.06.94zm10 10l.94 2.06.94-2.06 2.06-.94-2.06-.94-.94-2.06-.94 2.06-2.06.94z\"/><path d=\"M17.41 7.96l-1.37-1.37c-.4-.4-.92-.59-1.43-.59-.52 0-1.04.2-1.43.59L10.3 9.45l-7.72 7.72c-.78.78-.78 2.05 0 2.83L4 21.41c.39.39.9.59 1.41.59.51 0 1.02-.2 1.41-.59l7.78-7.78 2.81-2.81c.8-.78.8-2.07 0-2.86zM5.41 20L4 18.59l7.72-7.72 1.47 1.35L5.41 20z\"/>\n",
              "  </svg>\n",
              "      </button>\n",
              "      \n",
              "  <style>\n",
              "    .colab-df-container {\n",
              "      display:flex;\n",
              "      flex-wrap:wrap;\n",
              "      gap: 12px;\n",
              "    }\n",
              "\n",
              "    .colab-df-convert {\n",
              "      background-color: #E8F0FE;\n",
              "      border: none;\n",
              "      border-radius: 50%;\n",
              "      cursor: pointer;\n",
              "      display: none;\n",
              "      fill: #1967D2;\n",
              "      height: 32px;\n",
              "      padding: 0 0 0 0;\n",
              "      width: 32px;\n",
              "    }\n",
              "\n",
              "    .colab-df-convert:hover {\n",
              "      background-color: #E2EBFA;\n",
              "      box-shadow: 0px 1px 2px rgba(60, 64, 67, 0.3), 0px 1px 3px 1px rgba(60, 64, 67, 0.15);\n",
              "      fill: #174EA6;\n",
              "    }\n",
              "\n",
              "    [theme=dark] .colab-df-convert {\n",
              "      background-color: #3B4455;\n",
              "      fill: #D2E3FC;\n",
              "    }\n",
              "\n",
              "    [theme=dark] .colab-df-convert:hover {\n",
              "      background-color: #434B5C;\n",
              "      box-shadow: 0px 1px 3px 1px rgba(0, 0, 0, 0.15);\n",
              "      filter: drop-shadow(0px 1px 2px rgba(0, 0, 0, 0.3));\n",
              "      fill: #FFFFFF;\n",
              "    }\n",
              "  </style>\n",
              "\n",
              "      <script>\n",
              "        const buttonEl =\n",
              "          document.querySelector('#df-c1138046-4a8c-44ea-9ccd-5712bb87f69e button.colab-df-convert');\n",
              "        buttonEl.style.display =\n",
              "          google.colab.kernel.accessAllowed ? 'block' : 'none';\n",
              "\n",
              "        async function convertToInteractive(key) {\n",
              "          const element = document.querySelector('#df-c1138046-4a8c-44ea-9ccd-5712bb87f69e');\n",
              "          const dataTable =\n",
              "            await google.colab.kernel.invokeFunction('convertToInteractive',\n",
              "                                                     [key], {});\n",
              "          if (!dataTable) return;\n",
              "\n",
              "          const docLinkHtml = 'Like what you see? Visit the ' +\n",
              "            '<a target=\"_blank\" href=https://colab.research.google.com/notebooks/data_table.ipynb>data table notebook</a>'\n",
              "            + ' to learn more about interactive tables.';\n",
              "          element.innerHTML = '';\n",
              "          dataTable['output_type'] = 'display_data';\n",
              "          await google.colab.output.renderOutput(dataTable, element);\n",
              "          const docLink = document.createElement('div');\n",
              "          docLink.innerHTML = docLinkHtml;\n",
              "          element.appendChild(docLink);\n",
              "        }\n",
              "      </script>\n",
              "    </div>\n",
              "  </div>\n",
              "  "
            ]
          },
          "metadata": {},
          "execution_count": 211
        }
      ]
    },
    {
      "cell_type": "code",
      "source": [
        "kfoldLightGBM.to_csv(\"kfoldLightGBM.csv\", index=False)"
      ],
      "metadata": {
        "id": "C-fzBydMBB8r"
      },
      "execution_count": null,
      "outputs": []
    },
    {
      "cell_type": "markdown",
      "source": [
        "#fe"
      ],
      "metadata": {
        "id": "qoccFH6GMeih"
      }
    },
    {
      "cell_type": "code",
      "source": [
        "from sklearn import preprocessing\n",
        "from sklearn.preprocessing import LabelEncoder\n",
        "le = preprocessing.LabelEncoder()  \n",
        "train[\"genre\"] = le.fit_transform(train[\"genre\"])\n",
        "train[\"screening_rat\"] = le.fit_transform(train[\"screening_rat\"])"
      ],
      "metadata": {
        "id": "OM7nMUIbAg5s"
      },
      "execution_count": null,
      "outputs": []
    },
    {
      "cell_type": "code",
      "source": [
        "train.genre"
      ],
      "metadata": {
        "colab": {
          "base_uri": "https://localhost:8080/"
        },
        "id": "6cRH8i1EBmDo",
        "outputId": "480110f5-41b6-40cc-b8e6-03bb249cc2ca"
      },
      "execution_count": null,
      "outputs": [
        {
          "output_type": "execute_result",
          "data": {
            "text/plain": [
              "0      10\n",
              "1       2\n",
              "2      10\n",
              "3      11\n",
              "4      11\n",
              "       ..\n",
              "595     4\n",
              "596     4\n",
              "597     1\n",
              "598     2\n",
              "599    10\n",
              "Name: genre, Length: 600, dtype: int64"
            ]
          },
          "metadata": {},
          "execution_count": 222
        }
      ]
    },
    {
      "cell_type": "code",
      "source": [
        "model=lgb.LGBMRegressor(random_state = 45, n_estimators=1000)\n",
        "models = [ ]\n",
        "for train_idx, val_idx in k_fold.split(X_train):\n",
        "    x_t = X_train.iloc[train_idx]\n",
        "    y_t = Y_train.iloc[train_idx]\n",
        "    x_val = X_train.iloc[val_idx]\n",
        "    y_val = Y_train.iloc[val_idx]\n",
        "    models.append(model.fit(x_t, y_t, eval_set=(x_val, y_val), early_stopping_rounds=100, verbose = 100))"
      ],
      "metadata": {
        "colab": {
          "base_uri": "https://localhost:8080/"
        },
        "id": "-qNS9IirBqhB",
        "outputId": "ba59a885-7847-4fc0-fe90-0eb1fef88bbb"
      },
      "execution_count": null,
      "outputs": [
        {
          "output_type": "stream",
          "name": "stdout",
          "text": [
            "Training until validation scores don't improve for 100 rounds.\n",
            "[100]\tvalid_0's l2: 3.68198e+12\n",
            "Early stopping, best iteration is:\n",
            "[12]\tvalid_0's l2: 3.05053e+12\n",
            "Training until validation scores don't improve for 100 rounds.\n",
            "[100]\tvalid_0's l2: 3.05887e+12\n",
            "Early stopping, best iteration is:\n",
            "[91]\tvalid_0's l2: 3.0159e+12\n",
            "Training until validation scores don't improve for 100 rounds.\n",
            "[100]\tvalid_0's l2: 2.00974e+12\n",
            "Early stopping, best iteration is:\n",
            "[10]\tvalid_0's l2: 1.65492e+12\n",
            "Training until validation scores don't improve for 100 rounds.\n",
            "[100]\tvalid_0's l2: 2.58135e+12\n",
            "Early stopping, best iteration is:\n",
            "[25]\tvalid_0's l2: 2.04714e+12\n",
            "Training until validation scores don't improve for 100 rounds.\n",
            "[100]\tvalid_0's l2: 1.87528e+12\n",
            "Early stopping, best iteration is:\n",
            "[9]\tvalid_0's l2: 1.33798e+12\n"
          ]
        }
      ]
    },
    {
      "cell_type": "code",
      "source": [
        "preds = []\n",
        "for model in models:\n",
        "    preds.append(model.predict(X_test))\n",
        "len(preds)"
      ],
      "metadata": {
        "colab": {
          "base_uri": "https://localhost:8080/"
        },
        "id": "_MJ1khK_BqtF",
        "outputId": "2da66223-f234-44b1-e10a-044bd6955d95"
      },
      "execution_count": null,
      "outputs": [
        {
          "output_type": "execute_result",
          "data": {
            "text/plain": [
              "5"
            ]
          },
          "metadata": {},
          "execution_count": 224
        }
      ]
    },
    {
      "cell_type": "markdown",
      "source": [
        "더 좋은 결과를 얻을수 있을까 대해 열심히 코딩해보았지만 실패 했습니다."
      ],
      "metadata": {
        "id": "wEr8ZGm-CVCd"
      }
    },
    {
      "cell_type": "markdown",
      "source": [
        "## Grid Search"
      ],
      "metadata": {
        "id": "N1cSJlemDVWT"
      }
    },
    {
      "cell_type": "code",
      "source": [
        "from sklearn.model_selection import GridSearchCV"
      ],
      "metadata": {
        "id": "8ogNvcMLEBb4"
      },
      "execution_count": null,
      "outputs": []
    },
    {
      "cell_type": "code",
      "source": [
        "model = lgb.LGBMRegressor(random_state=45, n_estimators=1000)"
      ],
      "metadata": {
        "id": "VHKr2Z_BECiX"
      },
      "execution_count": null,
      "outputs": []
    },
    {
      "cell_type": "code",
      "source": [
        "\n",
        "params = {\n",
        "    'learning_rate': [0.1, 0.01, 0.003],\n",
        "    'min_child_samples': [20, 30]}\n",
        "\n",
        "gs = GridSearchCV(estimator=model,\n",
        "                 param_grid=params,\n",
        "                  scoring= 'neg_mean_squared_error',\n",
        "                  cv = k_fold)"
      ],
      "metadata": {
        "id": "r1ZDNi6-EDgK"
      },
      "execution_count": null,
      "outputs": []
    },
    {
      "cell_type": "code",
      "source": [
        "X_train = train[features]\n",
        "Y_train = train[target]\n",
        "X_test = test[features]"
      ],
      "metadata": {
        "id": "cDKTKuc6EaAK"
      },
      "execution_count": null,
      "outputs": []
    },
    {
      "cell_type": "code",
      "source": [
        "gs.fit(X_train, Y_train)"
      ],
      "metadata": {
        "colab": {
          "base_uri": "https://localhost:8080/"
        },
        "id": "R0G4T3yZEEjs",
        "outputId": "8bedcd61-21eb-4433-c394-884e0bdc1c1e"
      },
      "execution_count": null,
      "outputs": [
        {
          "output_type": "execute_result",
          "data": {
            "text/plain": [
              "GridSearchCV(cv=KFold(n_splits=5, random_state=45, shuffle=True),\n",
              "             estimator=LGBMRegressor(n_estimators=1000, random_state=45),\n",
              "             param_grid={'learning_rate': [0.1, 0.01, 0.003],\n",
              "                         'min_child_samples': [20, 30]},\n",
              "             scoring='neg_mean_squared_error')"
            ]
          },
          "metadata": {},
          "execution_count": 238
        }
      ]
    },
    {
      "cell_type": "code",
      "source": [
        "gs.best_params_"
      ],
      "metadata": {
        "colab": {
          "base_uri": "https://localhost:8080/"
        },
        "id": "sAxEBpeaFb-n",
        "outputId": "b913d4c5-a561-4274-f543-b0d4aaf0cdcd"
      },
      "execution_count": null,
      "outputs": [
        {
          "output_type": "execute_result",
          "data": {
            "text/plain": [
              "{'learning_rate': 0.003, 'min_child_samples': 30}"
            ]
          },
          "metadata": {},
          "execution_count": 239
        }
      ]
    },
    {
      "cell_type": "code",
      "source": [
        "model = lgb.LGBMRegressor(random_state=777,n_estimators=1000, learning_rate=0.003, min_child_samples=30)\n",
        "\n",
        "models = []\n",
        "\n",
        "for train_idx, val_idx in k_fold.split(X_train):\n",
        "    x_t = X_train.iloc[train_idx]\n",
        "    y_t = Y_train.iloc[train_idx]\n",
        "    x_val = X_train.iloc[val_idx]\n",
        "    y_val = Y_train.iloc[val_idx]\n",
        "    \n",
        "    models.append(model.fit(x_t, y_t, eval_set=(x_val, y_val), early_stopping_rounds=100, verbose = 100))"
      ],
      "metadata": {
        "colab": {
          "base_uri": "https://localhost:8080/"
        },
        "id": "zNJp5o7fFd1W",
        "outputId": "3854cf76-11f2-45ec-9d0f-47c0b7e5c9e3"
      },
      "execution_count": null,
      "outputs": [
        {
          "output_type": "stream",
          "name": "stdout",
          "text": [
            "Training until validation scores don't improve for 100 rounds.\n",
            "[100]\tvalid_0's l2: 3.32321e+12\n",
            "[200]\tvalid_0's l2: 3.19172e+12\n",
            "[300]\tvalid_0's l2: 3.13764e+12\n",
            "[400]\tvalid_0's l2: 3.08102e+12\n",
            "[500]\tvalid_0's l2: 3.06133e+12\n",
            "Early stopping, best iteration is:\n",
            "[482]\tvalid_0's l2: 3.06091e+12\n",
            "Training until validation scores don't improve for 100 rounds.\n",
            "[100]\tvalid_0's l2: 4.57876e+12\n",
            "[200]\tvalid_0's l2: 4.15432e+12\n",
            "[300]\tvalid_0's l2: 3.87312e+12\n",
            "[400]\tvalid_0's l2: 3.69749e+12\n",
            "[500]\tvalid_0's l2: 3.56942e+12\n",
            "[600]\tvalid_0's l2: 3.47734e+12\n",
            "[700]\tvalid_0's l2: 3.41709e+12\n",
            "[800]\tvalid_0's l2: 3.37792e+12\n",
            "[900]\tvalid_0's l2: 3.35186e+12\n",
            "[1000]\tvalid_0's l2: 3.33405e+12\n",
            "Did not meet early stopping. Best iteration is:\n",
            "[1000]\tvalid_0's l2: 3.33405e+12\n",
            "Training until validation scores don't improve for 100 rounds.\n",
            "[100]\tvalid_0's l2: 1.88562e+12\n",
            "[200]\tvalid_0's l2: 1.65603e+12\n",
            "[300]\tvalid_0's l2: 1.58497e+12\n",
            "[400]\tvalid_0's l2: 1.56995e+12\n",
            "[500]\tvalid_0's l2: 1.57126e+12\n",
            "Early stopping, best iteration is:\n",
            "[408]\tvalid_0's l2: 1.56972e+12\n",
            "Training until validation scores don't improve for 100 rounds.\n",
            "[100]\tvalid_0's l2: 2.79531e+12\n",
            "[200]\tvalid_0's l2: 2.39695e+12\n",
            "[300]\tvalid_0's l2: 2.19426e+12\n",
            "[400]\tvalid_0's l2: 2.0737e+12\n",
            "[500]\tvalid_0's l2: 1.99753e+12\n",
            "[600]\tvalid_0's l2: 1.95082e+12\n",
            "[700]\tvalid_0's l2: 1.91328e+12\n",
            "[800]\tvalid_0's l2: 1.89065e+12\n",
            "[900]\tvalid_0's l2: 1.88296e+12\n",
            "Early stopping, best iteration is:\n",
            "[890]\tvalid_0's l2: 1.88221e+12\n",
            "Training until validation scores don't improve for 100 rounds.\n",
            "[100]\tvalid_0's l2: 1.55239e+12\n",
            "[200]\tvalid_0's l2: 1.3394e+12\n",
            "[300]\tvalid_0's l2: 1.25423e+12\n",
            "[400]\tvalid_0's l2: 1.23918e+12\n",
            "Early stopping, best iteration is:\n",
            "[382]\tvalid_0's l2: 1.23872e+12\n"
          ]
        }
      ]
    },
    {
      "cell_type": "code",
      "source": [],
      "metadata": {
        "id": "so-b_STjFMkI"
      },
      "execution_count": null,
      "outputs": []
    },
    {
      "cell_type": "code",
      "source": [
        "gs.best_params_"
      ],
      "metadata": {
        "id": "ojmWGkisBq35"
      },
      "execution_count": null,
      "outputs": []
    },
    {
      "cell_type": "code",
      "source": [
        "model = lgb.LGBMRegressor(random_state=45,n_estimators=1000, learning_rate=0.003, min_child_samples=30)\n",
        "\n",
        "models = []\n",
        "\n",
        "for train_idx, val_idx in k_fold.split(X_train):\n",
        "    x_t = X_train.iloc[train_idx]\n",
        "    y_t = y_train.iloc[train_idx]\n",
        "    x_val = X_train.iloc[val_idx]\n",
        "    y_val = y_train.iloc[val_idx]\n",
        "    \n",
        "    models.append(model.fit(x_t, y_t, eval_set=(x_val, y_val), early_stopping_rounds=100, verbose = 100))"
      ],
      "metadata": {
        "id": "181KGbiREGt9"
      },
      "execution_count": null,
      "outputs": []
    },
    {
      "cell_type": "code",
      "source": [],
      "metadata": {
        "id": "mwbTnRO1OBFD"
      },
      "execution_count": null,
      "outputs": []
    },
    {
      "cell_type": "markdown",
      "source": [
        "-----------------------------------------------\n",
        "\n"
      ],
      "metadata": {
        "id": "Pk1CJ_jcOBYo"
      }
    },
    {
      "cell_type": "markdown",
      "source": [
        "끝"
      ],
      "metadata": {
        "id": "NcY0JI2OOFvK"
      }
    },
    {
      "cell_type": "code",
      "source": [
        "\n",
        "!pip install scikit-learn==0.24.2\n",
        "!pip install category_encoders"
      ],
      "metadata": {
        "colab": {
          "base_uri": "https://localhost:8080/"
        },
        "id": "AmtxQeQYAkJi",
        "outputId": "9c9abcd1-e07c-4a1a-a42e-c4b8369204be"
      },
      "execution_count": null,
      "outputs": [
        {
          "output_type": "stream",
          "name": "stdout",
          "text": [
            "Looking in indexes: https://pypi.org/simple, https://us-python.pkg.dev/colab-wheels/public/simple/\n",
            "Collecting scikit-learn==0.24.2\n",
            "  Downloading scikit_learn-0.24.2-cp38-cp38-manylinux2010_x86_64.whl (24.9 MB)\n",
            "\u001b[K     |████████████████████████████████| 24.9 MB 92.7 MB/s \n",
            "\u001b[?25hRequirement already satisfied: joblib>=0.11 in /usr/local/lib/python3.8/dist-packages (from scikit-learn==0.24.2) (1.2.0)\n",
            "Requirement already satisfied: threadpoolctl>=2.0.0 in /usr/local/lib/python3.8/dist-packages (from scikit-learn==0.24.2) (3.1.0)\n",
            "Requirement already satisfied: numpy>=1.13.3 in /usr/local/lib/python3.8/dist-packages (from scikit-learn==0.24.2) (1.21.6)\n",
            "Requirement already satisfied: scipy>=0.19.1 in /usr/local/lib/python3.8/dist-packages (from scikit-learn==0.24.2) (1.7.3)\n",
            "Installing collected packages: scikit-learn\n",
            "  Attempting uninstall: scikit-learn\n",
            "    Found existing installation: scikit-learn 1.0.2\n",
            "    Uninstalling scikit-learn-1.0.2:\n",
            "      Successfully uninstalled scikit-learn-1.0.2\n",
            "\u001b[31mERROR: pip's dependency resolver does not currently take into account all the packages that are installed. This behaviour is the source of the following dependency conflicts.\n",
            "yellowbrick 1.5 requires scikit-learn>=1.0.0, but you have scikit-learn 0.24.2 which is incompatible.\u001b[0m\n",
            "Successfully installed scikit-learn-0.24.2\n",
            "Looking in indexes: https://pypi.org/simple, https://us-python.pkg.dev/colab-wheels/public/simple/\n",
            "Collecting category_encoders\n",
            "  Downloading category_encoders-2.5.1.post0-py2.py3-none-any.whl (72 kB)\n",
            "\u001b[K     |████████████████████████████████| 72 kB 853 kB/s \n",
            "\u001b[?25hRequirement already satisfied: numpy>=1.14.0 in /usr/local/lib/python3.8/dist-packages (from category_encoders) (1.21.6)\n",
            "Requirement already satisfied: scipy>=1.0.0 in /usr/local/lib/python3.8/dist-packages (from category_encoders) (1.7.3)\n",
            "Requirement already satisfied: statsmodels>=0.9.0 in /usr/local/lib/python3.8/dist-packages (from category_encoders) (0.12.2)\n",
            "Requirement already satisfied: patsy>=0.5.1 in /usr/local/lib/python3.8/dist-packages (from category_encoders) (0.5.3)\n",
            "Requirement already satisfied: pandas>=1.0.5 in /usr/local/lib/python3.8/dist-packages (from category_encoders) (1.3.5)\n",
            "Requirement already satisfied: scikit-learn>=0.20.0 in /usr/local/lib/python3.8/dist-packages (from category_encoders) (0.24.2)\n",
            "Requirement already satisfied: pytz>=2017.3 in /usr/local/lib/python3.8/dist-packages (from pandas>=1.0.5->category_encoders) (2022.6)\n",
            "Requirement already satisfied: python-dateutil>=2.7.3 in /usr/local/lib/python3.8/dist-packages (from pandas>=1.0.5->category_encoders) (2.8.2)\n",
            "Requirement already satisfied: six in /usr/local/lib/python3.8/dist-packages (from patsy>=0.5.1->category_encoders) (1.15.0)\n",
            "Requirement already satisfied: threadpoolctl>=2.0.0 in /usr/local/lib/python3.8/dist-packages (from scikit-learn>=0.20.0->category_encoders) (3.1.0)\n",
            "Requirement already satisfied: joblib>=0.11 in /usr/local/lib/python3.8/dist-packages (from scikit-learn>=0.20.0->category_encoders) (1.2.0)\n",
            "Installing collected packages: category-encoders\n",
            "Successfully installed category-encoders-2.5.1.post0\n"
          ]
        }
      ]
    },
    {
      "cell_type": "code",
      "source": [
        "from sklearn import preprocessing"
      ],
      "metadata": {
        "id": "cuIKDLCEAkZl"
      },
      "execution_count": null,
      "outputs": []
    },
    {
      "cell_type": "code",
      "source": [
        "from sklearn.preprocessing import LabelEncoder"
      ],
      "metadata": {
        "id": "lnFf-2caAkjE"
      },
      "execution_count": null,
      "outputs": []
    },
    {
      "cell_type": "code",
      "source": [
        "le = preprocessing.LabelEncoder()  #문자열 값을 전부 숫자로 변경해주는것\n",
        "train[\"genre\"] = le.fit_transform(train[\"genre\"]) #변경해주는것 학습\n",
        "train[\"screening_rat\"] = le.fit_transform(train[\"screening_rat\"])\n"
      ],
      "metadata": {
        "id": "OsLp7k5GAk84"
      },
      "execution_count": null,
      "outputs": []
    },
    {
      "cell_type": "code",
      "source": [
        "\n",
        "train.genre  #장르 값들이 숫자로 변경"
      ],
      "metadata": {
        "colab": {
          "base_uri": "https://localhost:8080/"
        },
        "id": "xMnV3W-FAqLI",
        "outputId": "6e2c0bd9-565f-451e-89c7-810af466b855"
      },
      "execution_count": null,
      "outputs": [
        {
          "output_type": "execute_result",
          "data": {
            "text/plain": [
              "0      10\n",
              "1       2\n",
              "2      10\n",
              "3      11\n",
              "4      11\n",
              "       ..\n",
              "595     4\n",
              "596     4\n",
              "597     1\n",
              "598     2\n",
              "599    10\n",
              "Name: genre, Length: 600, dtype: int64"
            ]
          },
          "metadata": {},
          "execution_count": 30
        }
      ]
    },
    {
      "cell_type": "code",
      "source": [
        "\n",
        "train.screening_rat"
      ],
      "metadata": {
        "colab": {
          "base_uri": "https://localhost:8080/"
        },
        "id": "_NaisVJ8AqfI",
        "outputId": "5f47cf6b-28e9-4495-982d-30fca45224d0"
      },
      "execution_count": null,
      "outputs": [
        {
          "output_type": "execute_result",
          "data": {
            "text/plain": [
              "0      3\n",
              "1      3\n",
              "2      1\n",
              "3      2\n",
              "4      1\n",
              "      ..\n",
              "595    3\n",
              "596    1\n",
              "597    3\n",
              "598    1\n",
              "599    1\n",
              "Name: screening_rat, Length: 600, dtype: int64"
            ]
          },
          "metadata": {},
          "execution_count": 31
        }
      ]
    },
    {
      "cell_type": "code",
      "source": [
        "test[\"genre\"] = le.fit_transform(test[\"genre\"])\n"
      ],
      "metadata": {
        "id": "i45xGKzMAqpZ"
      },
      "execution_count": null,
      "outputs": []
    },
    {
      "cell_type": "code",
      "source": [
        "test[\"screening_rat\"] = le.fit_transform(test[\"screening_rat\"])\n"
      ],
      "metadata": {
        "id": "p5lw5p-rAq1j"
      },
      "execution_count": null,
      "outputs": []
    },
    {
      "cell_type": "code",
      "source": [
        "\n",
        "test.genre"
      ],
      "metadata": {
        "colab": {
          "base_uri": "https://localhost:8080/"
        },
        "id": "NV7LLUuwArEK",
        "outputId": "ce7f626b-08fd-4a32-97b9-8e105117dbf0"
      },
      "execution_count": null,
      "outputs": [
        {
          "output_type": "execute_result",
          "data": {
            "text/plain": [
              "0       2\n",
              "1       5\n",
              "2       4\n",
              "3      10\n",
              "4       1\n",
              "       ..\n",
              "238     4\n",
              "239     3\n",
              "240     2\n",
              "241     4\n",
              "242     5\n",
              "Name: genre, Length: 243, dtype: int64"
            ]
          },
          "metadata": {},
          "execution_count": 34
        }
      ]
    },
    {
      "cell_type": "code",
      "source": [
        "test.screening_rat\n"
      ],
      "metadata": {
        "id": "-REAC08aA2y-"
      },
      "execution_count": null,
      "outputs": []
    },
    {
      "cell_type": "code",
      "source": [],
      "metadata": {
        "id": "3Er7Wj7dA4MJ"
      },
      "execution_count": null,
      "outputs": []
    },
    {
      "cell_type": "code",
      "source": [
        "pip install xgboost"
      ],
      "metadata": {
        "colab": {
          "base_uri": "https://localhost:8080/"
        },
        "id": "Bs8lWvSMA4V9",
        "outputId": "95c2c4c6-fb87-468b-bf9e-824e8f014133"
      },
      "execution_count": null,
      "outputs": [
        {
          "output_type": "stream",
          "name": "stdout",
          "text": [
            "Looking in indexes: https://pypi.org/simple, https://us-python.pkg.dev/colab-wheels/public/simple/\n",
            "Requirement already satisfied: xgboost in /usr/local/lib/python3.8/dist-packages (0.90)\n",
            "Requirement already satisfied: numpy in /usr/local/lib/python3.8/dist-packages (from xgboost) (1.21.6)\n",
            "Requirement already satisfied: scipy in /usr/local/lib/python3.8/dist-packages (from xgboost) (1.7.3)\n"
          ]
        }
      ]
    },
    {
      "cell_type": "code",
      "source": [
        "pip install lightgbm"
      ],
      "metadata": {
        "colab": {
          "base_uri": "https://localhost:8080/"
        },
        "id": "06Dw_YAoA554",
        "outputId": "897c8da0-9975-4885-cb09-508f5e7d9044"
      },
      "execution_count": null,
      "outputs": [
        {
          "output_type": "stream",
          "name": "stdout",
          "text": [
            "Looking in indexes: https://pypi.org/simple, https://us-python.pkg.dev/colab-wheels/public/simple/\n",
            "Requirement already satisfied: lightgbm in /usr/local/lib/python3.8/dist-packages (2.2.3)\n",
            "Requirement already satisfied: numpy in /usr/local/lib/python3.8/dist-packages (from lightgbm) (1.21.6)\n",
            "Requirement already satisfied: scikit-learn in /usr/local/lib/python3.8/dist-packages (from lightgbm) (0.24.2)\n",
            "Requirement already satisfied: scipy in /usr/local/lib/python3.8/dist-packages (from lightgbm) (1.7.3)\n",
            "Requirement already satisfied: threadpoolctl>=2.0.0 in /usr/local/lib/python3.8/dist-packages (from scikit-learn->lightgbm) (3.1.0)\n",
            "Requirement already satisfied: joblib>=0.11 in /usr/local/lib/python3.8/dist-packages (from scikit-learn->lightgbm) (1.2.0)\n"
          ]
        }
      ]
    },
    {
      "cell_type": "code",
      "source": [
        "from sklearn.model_selection import KFold, cross_val_score, train_test_split\n",
        "from sklearn.pipeline import make_pipeline\n",
        "from sklearn.metrics import mean_squared_error\n",
        "import xgboost as xgb\n",
        "import lightgbm as lgb\n"
      ],
      "metadata": {
        "id": "tyPlhahtA6Ka"
      },
      "execution_count": null,
      "outputs": []
    },
    {
      "cell_type": "code",
      "source": [
        "X_train = train[features]\n",
        "Y_train = train[target]\n",
        "X_test = test[features]"
      ],
      "metadata": {
        "id": "CGnsyYs_A6X2"
      },
      "execution_count": null,
      "outputs": []
    },
    {
      "cell_type": "code",
      "source": [
        "k_fold = KFold(n_splits = 5, shuffle=True, random_state = 42) "
      ],
      "metadata": {
        "id": "ugk46ex5A6i4"
      },
      "execution_count": null,
      "outputs": []
    },
    {
      "cell_type": "code",
      "source": [
        "\n",
        "# 600개에서 4:1의 비율로 train / test로 나누어짐\n",
        "for train_idx, val_idx in k_fold.split(X_train):\n",
        "    print(len(train_idx), len(val_idx))\n",
        "    break"
      ],
      "metadata": {
        "colab": {
          "base_uri": "https://localhost:8080/"
        },
        "id": "KJ5ui5uoA6uQ",
        "outputId": "d1e8c0b8-5cea-4c68-b25e-415649882c6c"
      },
      "execution_count": null,
      "outputs": [
        {
          "output_type": "stream",
          "name": "stdout",
          "text": [
            "480 120\n"
          ]
        }
      ]
    },
    {
      "cell_type": "code",
      "source": [],
      "metadata": {
        "id": "NYm9ld8zA7DE"
      },
      "execution_count": null,
      "outputs": []
    },
    {
      "cell_type": "code",
      "source": [
        "model = lgb.LGBMRegressor(random_state = 42, n_estimators=1000)\n",
        "models = [ ]\n",
        "for train_idx, val_idx in k_fold.split(X_train):\n",
        "    x_t = X_train.iloc[train_idx]\n",
        "    y_t = Y_train.iloc[train_idx]\n",
        "    x_val = X_train.iloc[val_idx]\n",
        "    y_val = Y_train.iloc[val_idx]\n",
        "    models.append(model.fit(x_t, y_t, eval_set=(x_val, y_val), early_stopping_rounds=100, verbose = 100))"
      ],
      "metadata": {
        "colab": {
          "base_uri": "https://localhost:8080/"
        },
        "id": "74XW7BckHeEO",
        "outputId": "20233051-a70e-49f3-b026-e84b952697e9"
      },
      "execution_count": null,
      "outputs": [
        {
          "output_type": "stream",
          "name": "stdout",
          "text": [
            "Training until validation scores don't improve for 100 rounds.\n",
            "[100]\tvalid_0's l2: 1.94898e+12\n",
            "Early stopping, best iteration is:\n",
            "[6]\tvalid_0's l2: 1.24775e+12\n",
            "Training until validation scores don't improve for 100 rounds.\n",
            "[100]\tvalid_0's l2: 1.12928e+12\n",
            "Early stopping, best iteration is:\n",
            "[51]\tvalid_0's l2: 9.70145e+11\n",
            "Training until validation scores don't improve for 100 rounds.\n",
            "[100]\tvalid_0's l2: 2.34143e+12\n",
            "Early stopping, best iteration is:\n",
            "[37]\tvalid_0's l2: 2.26324e+12\n",
            "Training until validation scores don't improve for 100 rounds.\n",
            "[100]\tvalid_0's l2: 2.70532e+12\n",
            "[200]\tvalid_0's l2: 2.68141e+12\n",
            "Early stopping, best iteration is:\n",
            "[127]\tvalid_0's l2: 2.66817e+12\n",
            "Training until validation scores don't improve for 100 rounds.\n",
            "[100]\tvalid_0's l2: 3.22814e+12\n",
            "Early stopping, best iteration is:\n",
            "[39]\tvalid_0's l2: 3.07138e+12\n"
          ]
        }
      ]
    },
    {
      "cell_type": "code",
      "source": [
        "models"
      ],
      "metadata": {
        "colab": {
          "base_uri": "https://localhost:8080/"
        },
        "id": "l_OG2n66T-3m",
        "outputId": "cac71412-462b-4a90-835f-53891785da7b"
      },
      "execution_count": null,
      "outputs": [
        {
          "output_type": "execute_result",
          "data": {
            "text/plain": [
              "[LGBMRegressor(n_estimators=1000, random_state=42),\n",
              " LGBMRegressor(n_estimators=1000, random_state=42),\n",
              " LGBMRegressor(n_estimators=1000, random_state=42),\n",
              " LGBMRegressor(n_estimators=1000, random_state=42),\n",
              " LGBMRegressor(n_estimators=1000, random_state=42)]"
            ]
          },
          "metadata": {},
          "execution_count": 42
        }
      ]
    },
    {
      "cell_type": "code",
      "source": [
        "preds = []\n",
        "for model in models:\n",
        "    preds.append(model.predict(X_test))\n",
        "len(preds)"
      ],
      "metadata": {
        "colab": {
          "base_uri": "https://localhost:8080/"
        },
        "id": "BB9lr-X6T_CA",
        "outputId": "b611d878-34c7-48ae-b27f-5ce6630c74de"
      },
      "execution_count": null,
      "outputs": [
        {
          "output_type": "execute_result",
          "data": {
            "text/plain": [
              "5"
            ]
          },
          "metadata": {},
          "execution_count": 43
        }
      ]
    },
    {
      "cell_type": "code",
      "source": [
        "kfoldLightGBM = submission.copy()"
      ],
      "metadata": {
        "id": "tcG_WIFYT_Mz"
      },
      "execution_count": null,
      "outputs": []
    },
    {
      "cell_type": "code",
      "source": [
        "preds"
      ],
      "metadata": {
        "colab": {
          "base_uri": "https://localhost:8080/"
        },
        "id": "_yBtPNzTT_bb",
        "outputId": "4fa33339-61c6-4e8f-aaf2-309ed72b7624"
      },
      "execution_count": null,
      "outputs": [
        {
          "output_type": "execute_result",
          "data": {
            "text/plain": [
              "[array([ 2.56629410e+06,  7.55919556e+05,  8.16788948e+05,  1.66914538e+06,\n",
              "         1.35982086e+06,  8.16046652e+04,  8.40486057e+04,  7.09833325e+04,\n",
              "         3.20264464e+04,  1.09156813e+06,  1.05110905e+06,  1.42125310e+06,\n",
              "         9.90764526e+05, -1.79922771e+04,  6.80917600e+05,  3.62767531e+06,\n",
              "        -7.70203286e+04,  2.99729969e+06,  3.68965036e+05,  4.01611978e+05,\n",
              "        -1.22705611e+05,  1.37366138e+05,  6.07341936e+05,  2.14688645e+05,\n",
              "         3.97673889e+04,  1.70308492e+06,  2.55187375e+04,  1.30681824e+06,\n",
              "         9.56731184e+04,  3.19099344e+05,  2.10685945e+06,  3.97451734e+04,\n",
              "         3.52346117e+05,  1.67535697e+06,  3.53908573e+04,  3.97673889e+04,\n",
              "         8.70300435e+04,  2.43802410e+04,  5.47312057e+04,  2.59445108e+04,\n",
              "         3.21772437e+05,  5.79709536e+04,  5.92683469e+04,  1.02212176e+06,\n",
              "         6.33179512e+05,  1.11832815e+06, -6.66165777e+04,  1.17469551e+05,\n",
              "         1.36203733e+06,  2.13928710e+04,  1.30720933e+04,  8.88599091e+05,\n",
              "         1.48193355e+05,  9.02704667e+05,  1.02136957e+06,  1.88389183e+05,\n",
              "         3.66463271e+05,  1.08979992e+06,  6.03130907e+05,  4.37624873e+06,\n",
              "         6.49054622e+05,  2.87089205e+06,  3.03907647e+05, -1.08059579e+05,\n",
              "         1.45451378e+05,  2.02611181e+04,  2.10877845e+06,  1.04465539e+05,\n",
              "         3.24433702e+05,  2.20969245e+05,  2.98463402e+06,  7.44223650e+05,\n",
              "         1.88614962e+04,  9.13347495e+05,  1.40050502e+05,  1.95902406e+04,\n",
              "         1.56451645e+06,  2.51204696e+05,  3.76872874e+05,  6.61344919e+04,\n",
              "         2.43027371e+05,  3.34615738e+06, -1.87278266e+04,  3.19286068e+06,\n",
              "         1.90845628e+04,  3.21303483e+06,  1.62490746e+05,  7.28277241e+04,\n",
              "         6.64421551e+04,  3.57667061e+05,  2.62830719e+04,  9.25953831e+04,\n",
              "         4.10443514e+05,  1.61726866e+06,  5.26040717e+04,  5.55729420e+05,\n",
              "         1.23380178e+05,  3.91228453e+05,  5.05216608e+04,  3.89348082e+05,\n",
              "         1.40687482e+06,  1.70168223e+06,  3.83352900e+04,  2.68684749e+04,\n",
              "         4.33570255e+05,  1.68841424e+05,  3.58053603e+06,  1.12804635e+04,\n",
              "         2.88038312e+06,  3.16934182e+04,  4.49576642e+04,  2.71811002e+06,\n",
              "         1.86772218e+06,  3.91228453e+05,  8.99637367e+03,  8.28920009e+05,\n",
              "         8.71410843e+04,  2.70144772e+06,  1.99148793e+05,  6.64457345e+03,\n",
              "         4.86823982e+04,  4.91157494e+05,  1.12972881e+06,  2.71326086e+04,\n",
              "         6.78586209e+04,  2.29635340e+04,  2.35248125e+04,  8.51347611e+04,\n",
              "         5.84255002e+05,  1.12286801e+05,  1.88614962e+04,  8.51109181e+05,\n",
              "        -7.73981590e+02,  2.41813150e+04,  1.26617660e+06,  4.30531550e+06,\n",
              "         3.28108345e+03,  7.02414048e+05,  2.11576631e+05,  1.68278493e+04,\n",
              "         1.60333595e+04,  3.23074630e+06,  4.98126647e+06,  3.92148903e+05,\n",
              "         3.73147403e+04,  1.45054515e+06,  2.76940431e+04,  1.33601538e+05,\n",
              "         2.96718623e+06,  8.75057579e+05,  1.39247021e+06,  4.75164979e+04,\n",
              "         3.44135609e+04,  3.30736301e+05, -4.24678773e+04,  9.08264439e+05,\n",
              "         3.17116456e+04,  1.54760236e+05,  2.23361597e+06,  2.28137227e+06,\n",
              "         2.16555410e+05,  1.24805611e+06,  2.88108694e+05,  8.74580817e+05,\n",
              "         2.03825615e+04,  1.32303732e+05,  2.08240423e+06,  5.32511031e+04,\n",
              "         5.59359299e+04,  1.14523080e+05, -6.37234541e+04,  3.86286509e+04,\n",
              "         7.53920904e+04,  4.60759162e+04,  7.14576609e+05,  3.61121507e+05,\n",
              "         3.75235098e+04,  3.23679889e+04,  4.35990548e+06,  2.94629837e+06,\n",
              "         4.72081229e+04,  3.38576691e+03,  6.00779863e+04,  5.10614860e+05,\n",
              "         2.05105145e+06,  4.41423695e+04,  2.22632738e+04,  4.76242565e+04,\n",
              "        -1.22785952e+04,  4.32402614e+06,  8.42067042e+04,  1.65722474e+04,\n",
              "         2.18482904e+04,  3.92651939e+04,  3.38576691e+03,  1.29702236e+06,\n",
              "         1.32446502e+05,  8.94455478e+05,  1.01638461e+05,  1.13792973e+06,\n",
              "         3.92478468e+05,  9.16278514e+04,  1.20073468e+05,  6.40410142e+05,\n",
              "         3.41458240e+05,  4.40495829e+05,  2.59507993e+06,  6.89334519e+05,\n",
              "         5.74900202e+04,  1.77201123e+06,  6.33873892e+05,  2.12285658e+06,\n",
              "         4.51226297e+06,  1.08273548e+06,  5.75740050e+04,  1.86745316e+04,\n",
              "         1.07438419e+06,  4.14751338e+04,  1.78917727e+04,  5.27749653e+05,\n",
              "         4.25131904e+05,  3.89011400e+06,  4.19217208e+05,  1.52225160e+05,\n",
              "         5.67107549e+05,  4.81386612e+05, -7.05931849e+03,  2.72226099e+06,\n",
              "         1.21689531e+05,  3.52002649e+06, -8.42649888e+03,  8.79974226e+05,\n",
              "         3.37459169e+05,  2.56575551e+03,  4.05939515e+04,  2.54588400e+05,\n",
              "         2.10213928e+05,  2.35524243e+04, -9.62320820e+03,  2.57781525e+04,\n",
              "         8.24149650e+05, -1.62498756e+05,  7.67247192e+03]),\n",
              " array([ 2.56629410e+06,  7.55919556e+05,  8.16788948e+05,  1.66914538e+06,\n",
              "         1.35982086e+06,  8.16046652e+04,  8.40486057e+04,  7.09833325e+04,\n",
              "         3.20264464e+04,  1.09156813e+06,  1.05110905e+06,  1.42125310e+06,\n",
              "         9.90764526e+05, -1.79922771e+04,  6.80917600e+05,  3.62767531e+06,\n",
              "        -7.70203286e+04,  2.99729969e+06,  3.68965036e+05,  4.01611978e+05,\n",
              "        -1.22705611e+05,  1.37366138e+05,  6.07341936e+05,  2.14688645e+05,\n",
              "         3.97673889e+04,  1.70308492e+06,  2.55187375e+04,  1.30681824e+06,\n",
              "         9.56731184e+04,  3.19099344e+05,  2.10685945e+06,  3.97451734e+04,\n",
              "         3.52346117e+05,  1.67535697e+06,  3.53908573e+04,  3.97673889e+04,\n",
              "         8.70300435e+04,  2.43802410e+04,  5.47312057e+04,  2.59445108e+04,\n",
              "         3.21772437e+05,  5.79709536e+04,  5.92683469e+04,  1.02212176e+06,\n",
              "         6.33179512e+05,  1.11832815e+06, -6.66165777e+04,  1.17469551e+05,\n",
              "         1.36203733e+06,  2.13928710e+04,  1.30720933e+04,  8.88599091e+05,\n",
              "         1.48193355e+05,  9.02704667e+05,  1.02136957e+06,  1.88389183e+05,\n",
              "         3.66463271e+05,  1.08979992e+06,  6.03130907e+05,  4.37624873e+06,\n",
              "         6.49054622e+05,  2.87089205e+06,  3.03907647e+05, -1.08059579e+05,\n",
              "         1.45451378e+05,  2.02611181e+04,  2.10877845e+06,  1.04465539e+05,\n",
              "         3.24433702e+05,  2.20969245e+05,  2.98463402e+06,  7.44223650e+05,\n",
              "         1.88614962e+04,  9.13347495e+05,  1.40050502e+05,  1.95902406e+04,\n",
              "         1.56451645e+06,  2.51204696e+05,  3.76872874e+05,  6.61344919e+04,\n",
              "         2.43027371e+05,  3.34615738e+06, -1.87278266e+04,  3.19286068e+06,\n",
              "         1.90845628e+04,  3.21303483e+06,  1.62490746e+05,  7.28277241e+04,\n",
              "         6.64421551e+04,  3.57667061e+05,  2.62830719e+04,  9.25953831e+04,\n",
              "         4.10443514e+05,  1.61726866e+06,  5.26040717e+04,  5.55729420e+05,\n",
              "         1.23380178e+05,  3.91228453e+05,  5.05216608e+04,  3.89348082e+05,\n",
              "         1.40687482e+06,  1.70168223e+06,  3.83352900e+04,  2.68684749e+04,\n",
              "         4.33570255e+05,  1.68841424e+05,  3.58053603e+06,  1.12804635e+04,\n",
              "         2.88038312e+06,  3.16934182e+04,  4.49576642e+04,  2.71811002e+06,\n",
              "         1.86772218e+06,  3.91228453e+05,  8.99637367e+03,  8.28920009e+05,\n",
              "         8.71410843e+04,  2.70144772e+06,  1.99148793e+05,  6.64457345e+03,\n",
              "         4.86823982e+04,  4.91157494e+05,  1.12972881e+06,  2.71326086e+04,\n",
              "         6.78586209e+04,  2.29635340e+04,  2.35248125e+04,  8.51347611e+04,\n",
              "         5.84255002e+05,  1.12286801e+05,  1.88614962e+04,  8.51109181e+05,\n",
              "        -7.73981590e+02,  2.41813150e+04,  1.26617660e+06,  4.30531550e+06,\n",
              "         3.28108345e+03,  7.02414048e+05,  2.11576631e+05,  1.68278493e+04,\n",
              "         1.60333595e+04,  3.23074630e+06,  4.98126647e+06,  3.92148903e+05,\n",
              "         3.73147403e+04,  1.45054515e+06,  2.76940431e+04,  1.33601538e+05,\n",
              "         2.96718623e+06,  8.75057579e+05,  1.39247021e+06,  4.75164979e+04,\n",
              "         3.44135609e+04,  3.30736301e+05, -4.24678773e+04,  9.08264439e+05,\n",
              "         3.17116456e+04,  1.54760236e+05,  2.23361597e+06,  2.28137227e+06,\n",
              "         2.16555410e+05,  1.24805611e+06,  2.88108694e+05,  8.74580817e+05,\n",
              "         2.03825615e+04,  1.32303732e+05,  2.08240423e+06,  5.32511031e+04,\n",
              "         5.59359299e+04,  1.14523080e+05, -6.37234541e+04,  3.86286509e+04,\n",
              "         7.53920904e+04,  4.60759162e+04,  7.14576609e+05,  3.61121507e+05,\n",
              "         3.75235098e+04,  3.23679889e+04,  4.35990548e+06,  2.94629837e+06,\n",
              "         4.72081229e+04,  3.38576691e+03,  6.00779863e+04,  5.10614860e+05,\n",
              "         2.05105145e+06,  4.41423695e+04,  2.22632738e+04,  4.76242565e+04,\n",
              "        -1.22785952e+04,  4.32402614e+06,  8.42067042e+04,  1.65722474e+04,\n",
              "         2.18482904e+04,  3.92651939e+04,  3.38576691e+03,  1.29702236e+06,\n",
              "         1.32446502e+05,  8.94455478e+05,  1.01638461e+05,  1.13792973e+06,\n",
              "         3.92478468e+05,  9.16278514e+04,  1.20073468e+05,  6.40410142e+05,\n",
              "         3.41458240e+05,  4.40495829e+05,  2.59507993e+06,  6.89334519e+05,\n",
              "         5.74900202e+04,  1.77201123e+06,  6.33873892e+05,  2.12285658e+06,\n",
              "         4.51226297e+06,  1.08273548e+06,  5.75740050e+04,  1.86745316e+04,\n",
              "         1.07438419e+06,  4.14751338e+04,  1.78917727e+04,  5.27749653e+05,\n",
              "         4.25131904e+05,  3.89011400e+06,  4.19217208e+05,  1.52225160e+05,\n",
              "         5.67107549e+05,  4.81386612e+05, -7.05931849e+03,  2.72226099e+06,\n",
              "         1.21689531e+05,  3.52002649e+06, -8.42649888e+03,  8.79974226e+05,\n",
              "         3.37459169e+05,  2.56575551e+03,  4.05939515e+04,  2.54588400e+05,\n",
              "         2.10213928e+05,  2.35524243e+04, -9.62320820e+03,  2.57781525e+04,\n",
              "         8.24149650e+05, -1.62498756e+05,  7.67247192e+03]),\n",
              " array([ 2.56629410e+06,  7.55919556e+05,  8.16788948e+05,  1.66914538e+06,\n",
              "         1.35982086e+06,  8.16046652e+04,  8.40486057e+04,  7.09833325e+04,\n",
              "         3.20264464e+04,  1.09156813e+06,  1.05110905e+06,  1.42125310e+06,\n",
              "         9.90764526e+05, -1.79922771e+04,  6.80917600e+05,  3.62767531e+06,\n",
              "        -7.70203286e+04,  2.99729969e+06,  3.68965036e+05,  4.01611978e+05,\n",
              "        -1.22705611e+05,  1.37366138e+05,  6.07341936e+05,  2.14688645e+05,\n",
              "         3.97673889e+04,  1.70308492e+06,  2.55187375e+04,  1.30681824e+06,\n",
              "         9.56731184e+04,  3.19099344e+05,  2.10685945e+06,  3.97451734e+04,\n",
              "         3.52346117e+05,  1.67535697e+06,  3.53908573e+04,  3.97673889e+04,\n",
              "         8.70300435e+04,  2.43802410e+04,  5.47312057e+04,  2.59445108e+04,\n",
              "         3.21772437e+05,  5.79709536e+04,  5.92683469e+04,  1.02212176e+06,\n",
              "         6.33179512e+05,  1.11832815e+06, -6.66165777e+04,  1.17469551e+05,\n",
              "         1.36203733e+06,  2.13928710e+04,  1.30720933e+04,  8.88599091e+05,\n",
              "         1.48193355e+05,  9.02704667e+05,  1.02136957e+06,  1.88389183e+05,\n",
              "         3.66463271e+05,  1.08979992e+06,  6.03130907e+05,  4.37624873e+06,\n",
              "         6.49054622e+05,  2.87089205e+06,  3.03907647e+05, -1.08059579e+05,\n",
              "         1.45451378e+05,  2.02611181e+04,  2.10877845e+06,  1.04465539e+05,\n",
              "         3.24433702e+05,  2.20969245e+05,  2.98463402e+06,  7.44223650e+05,\n",
              "         1.88614962e+04,  9.13347495e+05,  1.40050502e+05,  1.95902406e+04,\n",
              "         1.56451645e+06,  2.51204696e+05,  3.76872874e+05,  6.61344919e+04,\n",
              "         2.43027371e+05,  3.34615738e+06, -1.87278266e+04,  3.19286068e+06,\n",
              "         1.90845628e+04,  3.21303483e+06,  1.62490746e+05,  7.28277241e+04,\n",
              "         6.64421551e+04,  3.57667061e+05,  2.62830719e+04,  9.25953831e+04,\n",
              "         4.10443514e+05,  1.61726866e+06,  5.26040717e+04,  5.55729420e+05,\n",
              "         1.23380178e+05,  3.91228453e+05,  5.05216608e+04,  3.89348082e+05,\n",
              "         1.40687482e+06,  1.70168223e+06,  3.83352900e+04,  2.68684749e+04,\n",
              "         4.33570255e+05,  1.68841424e+05,  3.58053603e+06,  1.12804635e+04,\n",
              "         2.88038312e+06,  3.16934182e+04,  4.49576642e+04,  2.71811002e+06,\n",
              "         1.86772218e+06,  3.91228453e+05,  8.99637367e+03,  8.28920009e+05,\n",
              "         8.71410843e+04,  2.70144772e+06,  1.99148793e+05,  6.64457345e+03,\n",
              "         4.86823982e+04,  4.91157494e+05,  1.12972881e+06,  2.71326086e+04,\n",
              "         6.78586209e+04,  2.29635340e+04,  2.35248125e+04,  8.51347611e+04,\n",
              "         5.84255002e+05,  1.12286801e+05,  1.88614962e+04,  8.51109181e+05,\n",
              "        -7.73981590e+02,  2.41813150e+04,  1.26617660e+06,  4.30531550e+06,\n",
              "         3.28108345e+03,  7.02414048e+05,  2.11576631e+05,  1.68278493e+04,\n",
              "         1.60333595e+04,  3.23074630e+06,  4.98126647e+06,  3.92148903e+05,\n",
              "         3.73147403e+04,  1.45054515e+06,  2.76940431e+04,  1.33601538e+05,\n",
              "         2.96718623e+06,  8.75057579e+05,  1.39247021e+06,  4.75164979e+04,\n",
              "         3.44135609e+04,  3.30736301e+05, -4.24678773e+04,  9.08264439e+05,\n",
              "         3.17116456e+04,  1.54760236e+05,  2.23361597e+06,  2.28137227e+06,\n",
              "         2.16555410e+05,  1.24805611e+06,  2.88108694e+05,  8.74580817e+05,\n",
              "         2.03825615e+04,  1.32303732e+05,  2.08240423e+06,  5.32511031e+04,\n",
              "         5.59359299e+04,  1.14523080e+05, -6.37234541e+04,  3.86286509e+04,\n",
              "         7.53920904e+04,  4.60759162e+04,  7.14576609e+05,  3.61121507e+05,\n",
              "         3.75235098e+04,  3.23679889e+04,  4.35990548e+06,  2.94629837e+06,\n",
              "         4.72081229e+04,  3.38576691e+03,  6.00779863e+04,  5.10614860e+05,\n",
              "         2.05105145e+06,  4.41423695e+04,  2.22632738e+04,  4.76242565e+04,\n",
              "        -1.22785952e+04,  4.32402614e+06,  8.42067042e+04,  1.65722474e+04,\n",
              "         2.18482904e+04,  3.92651939e+04,  3.38576691e+03,  1.29702236e+06,\n",
              "         1.32446502e+05,  8.94455478e+05,  1.01638461e+05,  1.13792973e+06,\n",
              "         3.92478468e+05,  9.16278514e+04,  1.20073468e+05,  6.40410142e+05,\n",
              "         3.41458240e+05,  4.40495829e+05,  2.59507993e+06,  6.89334519e+05,\n",
              "         5.74900202e+04,  1.77201123e+06,  6.33873892e+05,  2.12285658e+06,\n",
              "         4.51226297e+06,  1.08273548e+06,  5.75740050e+04,  1.86745316e+04,\n",
              "         1.07438419e+06,  4.14751338e+04,  1.78917727e+04,  5.27749653e+05,\n",
              "         4.25131904e+05,  3.89011400e+06,  4.19217208e+05,  1.52225160e+05,\n",
              "         5.67107549e+05,  4.81386612e+05, -7.05931849e+03,  2.72226099e+06,\n",
              "         1.21689531e+05,  3.52002649e+06, -8.42649888e+03,  8.79974226e+05,\n",
              "         3.37459169e+05,  2.56575551e+03,  4.05939515e+04,  2.54588400e+05,\n",
              "         2.10213928e+05,  2.35524243e+04, -9.62320820e+03,  2.57781525e+04,\n",
              "         8.24149650e+05, -1.62498756e+05,  7.67247192e+03]),\n",
              " array([ 2.56629410e+06,  7.55919556e+05,  8.16788948e+05,  1.66914538e+06,\n",
              "         1.35982086e+06,  8.16046652e+04,  8.40486057e+04,  7.09833325e+04,\n",
              "         3.20264464e+04,  1.09156813e+06,  1.05110905e+06,  1.42125310e+06,\n",
              "         9.90764526e+05, -1.79922771e+04,  6.80917600e+05,  3.62767531e+06,\n",
              "        -7.70203286e+04,  2.99729969e+06,  3.68965036e+05,  4.01611978e+05,\n",
              "        -1.22705611e+05,  1.37366138e+05,  6.07341936e+05,  2.14688645e+05,\n",
              "         3.97673889e+04,  1.70308492e+06,  2.55187375e+04,  1.30681824e+06,\n",
              "         9.56731184e+04,  3.19099344e+05,  2.10685945e+06,  3.97451734e+04,\n",
              "         3.52346117e+05,  1.67535697e+06,  3.53908573e+04,  3.97673889e+04,\n",
              "         8.70300435e+04,  2.43802410e+04,  5.47312057e+04,  2.59445108e+04,\n",
              "         3.21772437e+05,  5.79709536e+04,  5.92683469e+04,  1.02212176e+06,\n",
              "         6.33179512e+05,  1.11832815e+06, -6.66165777e+04,  1.17469551e+05,\n",
              "         1.36203733e+06,  2.13928710e+04,  1.30720933e+04,  8.88599091e+05,\n",
              "         1.48193355e+05,  9.02704667e+05,  1.02136957e+06,  1.88389183e+05,\n",
              "         3.66463271e+05,  1.08979992e+06,  6.03130907e+05,  4.37624873e+06,\n",
              "         6.49054622e+05,  2.87089205e+06,  3.03907647e+05, -1.08059579e+05,\n",
              "         1.45451378e+05,  2.02611181e+04,  2.10877845e+06,  1.04465539e+05,\n",
              "         3.24433702e+05,  2.20969245e+05,  2.98463402e+06,  7.44223650e+05,\n",
              "         1.88614962e+04,  9.13347495e+05,  1.40050502e+05,  1.95902406e+04,\n",
              "         1.56451645e+06,  2.51204696e+05,  3.76872874e+05,  6.61344919e+04,\n",
              "         2.43027371e+05,  3.34615738e+06, -1.87278266e+04,  3.19286068e+06,\n",
              "         1.90845628e+04,  3.21303483e+06,  1.62490746e+05,  7.28277241e+04,\n",
              "         6.64421551e+04,  3.57667061e+05,  2.62830719e+04,  9.25953831e+04,\n",
              "         4.10443514e+05,  1.61726866e+06,  5.26040717e+04,  5.55729420e+05,\n",
              "         1.23380178e+05,  3.91228453e+05,  5.05216608e+04,  3.89348082e+05,\n",
              "         1.40687482e+06,  1.70168223e+06,  3.83352900e+04,  2.68684749e+04,\n",
              "         4.33570255e+05,  1.68841424e+05,  3.58053603e+06,  1.12804635e+04,\n",
              "         2.88038312e+06,  3.16934182e+04,  4.49576642e+04,  2.71811002e+06,\n",
              "         1.86772218e+06,  3.91228453e+05,  8.99637367e+03,  8.28920009e+05,\n",
              "         8.71410843e+04,  2.70144772e+06,  1.99148793e+05,  6.64457345e+03,\n",
              "         4.86823982e+04,  4.91157494e+05,  1.12972881e+06,  2.71326086e+04,\n",
              "         6.78586209e+04,  2.29635340e+04,  2.35248125e+04,  8.51347611e+04,\n",
              "         5.84255002e+05,  1.12286801e+05,  1.88614962e+04,  8.51109181e+05,\n",
              "        -7.73981590e+02,  2.41813150e+04,  1.26617660e+06,  4.30531550e+06,\n",
              "         3.28108345e+03,  7.02414048e+05,  2.11576631e+05,  1.68278493e+04,\n",
              "         1.60333595e+04,  3.23074630e+06,  4.98126647e+06,  3.92148903e+05,\n",
              "         3.73147403e+04,  1.45054515e+06,  2.76940431e+04,  1.33601538e+05,\n",
              "         2.96718623e+06,  8.75057579e+05,  1.39247021e+06,  4.75164979e+04,\n",
              "         3.44135609e+04,  3.30736301e+05, -4.24678773e+04,  9.08264439e+05,\n",
              "         3.17116456e+04,  1.54760236e+05,  2.23361597e+06,  2.28137227e+06,\n",
              "         2.16555410e+05,  1.24805611e+06,  2.88108694e+05,  8.74580817e+05,\n",
              "         2.03825615e+04,  1.32303732e+05,  2.08240423e+06,  5.32511031e+04,\n",
              "         5.59359299e+04,  1.14523080e+05, -6.37234541e+04,  3.86286509e+04,\n",
              "         7.53920904e+04,  4.60759162e+04,  7.14576609e+05,  3.61121507e+05,\n",
              "         3.75235098e+04,  3.23679889e+04,  4.35990548e+06,  2.94629837e+06,\n",
              "         4.72081229e+04,  3.38576691e+03,  6.00779863e+04,  5.10614860e+05,\n",
              "         2.05105145e+06,  4.41423695e+04,  2.22632738e+04,  4.76242565e+04,\n",
              "        -1.22785952e+04,  4.32402614e+06,  8.42067042e+04,  1.65722474e+04,\n",
              "         2.18482904e+04,  3.92651939e+04,  3.38576691e+03,  1.29702236e+06,\n",
              "         1.32446502e+05,  8.94455478e+05,  1.01638461e+05,  1.13792973e+06,\n",
              "         3.92478468e+05,  9.16278514e+04,  1.20073468e+05,  6.40410142e+05,\n",
              "         3.41458240e+05,  4.40495829e+05,  2.59507993e+06,  6.89334519e+05,\n",
              "         5.74900202e+04,  1.77201123e+06,  6.33873892e+05,  2.12285658e+06,\n",
              "         4.51226297e+06,  1.08273548e+06,  5.75740050e+04,  1.86745316e+04,\n",
              "         1.07438419e+06,  4.14751338e+04,  1.78917727e+04,  5.27749653e+05,\n",
              "         4.25131904e+05,  3.89011400e+06,  4.19217208e+05,  1.52225160e+05,\n",
              "         5.67107549e+05,  4.81386612e+05, -7.05931849e+03,  2.72226099e+06,\n",
              "         1.21689531e+05,  3.52002649e+06, -8.42649888e+03,  8.79974226e+05,\n",
              "         3.37459169e+05,  2.56575551e+03,  4.05939515e+04,  2.54588400e+05,\n",
              "         2.10213928e+05,  2.35524243e+04, -9.62320820e+03,  2.57781525e+04,\n",
              "         8.24149650e+05, -1.62498756e+05,  7.67247192e+03]),\n",
              " array([ 2.56629410e+06,  7.55919556e+05,  8.16788948e+05,  1.66914538e+06,\n",
              "         1.35982086e+06,  8.16046652e+04,  8.40486057e+04,  7.09833325e+04,\n",
              "         3.20264464e+04,  1.09156813e+06,  1.05110905e+06,  1.42125310e+06,\n",
              "         9.90764526e+05, -1.79922771e+04,  6.80917600e+05,  3.62767531e+06,\n",
              "        -7.70203286e+04,  2.99729969e+06,  3.68965036e+05,  4.01611978e+05,\n",
              "        -1.22705611e+05,  1.37366138e+05,  6.07341936e+05,  2.14688645e+05,\n",
              "         3.97673889e+04,  1.70308492e+06,  2.55187375e+04,  1.30681824e+06,\n",
              "         9.56731184e+04,  3.19099344e+05,  2.10685945e+06,  3.97451734e+04,\n",
              "         3.52346117e+05,  1.67535697e+06,  3.53908573e+04,  3.97673889e+04,\n",
              "         8.70300435e+04,  2.43802410e+04,  5.47312057e+04,  2.59445108e+04,\n",
              "         3.21772437e+05,  5.79709536e+04,  5.92683469e+04,  1.02212176e+06,\n",
              "         6.33179512e+05,  1.11832815e+06, -6.66165777e+04,  1.17469551e+05,\n",
              "         1.36203733e+06,  2.13928710e+04,  1.30720933e+04,  8.88599091e+05,\n",
              "         1.48193355e+05,  9.02704667e+05,  1.02136957e+06,  1.88389183e+05,\n",
              "         3.66463271e+05,  1.08979992e+06,  6.03130907e+05,  4.37624873e+06,\n",
              "         6.49054622e+05,  2.87089205e+06,  3.03907647e+05, -1.08059579e+05,\n",
              "         1.45451378e+05,  2.02611181e+04,  2.10877845e+06,  1.04465539e+05,\n",
              "         3.24433702e+05,  2.20969245e+05,  2.98463402e+06,  7.44223650e+05,\n",
              "         1.88614962e+04,  9.13347495e+05,  1.40050502e+05,  1.95902406e+04,\n",
              "         1.56451645e+06,  2.51204696e+05,  3.76872874e+05,  6.61344919e+04,\n",
              "         2.43027371e+05,  3.34615738e+06, -1.87278266e+04,  3.19286068e+06,\n",
              "         1.90845628e+04,  3.21303483e+06,  1.62490746e+05,  7.28277241e+04,\n",
              "         6.64421551e+04,  3.57667061e+05,  2.62830719e+04,  9.25953831e+04,\n",
              "         4.10443514e+05,  1.61726866e+06,  5.26040717e+04,  5.55729420e+05,\n",
              "         1.23380178e+05,  3.91228453e+05,  5.05216608e+04,  3.89348082e+05,\n",
              "         1.40687482e+06,  1.70168223e+06,  3.83352900e+04,  2.68684749e+04,\n",
              "         4.33570255e+05,  1.68841424e+05,  3.58053603e+06,  1.12804635e+04,\n",
              "         2.88038312e+06,  3.16934182e+04,  4.49576642e+04,  2.71811002e+06,\n",
              "         1.86772218e+06,  3.91228453e+05,  8.99637367e+03,  8.28920009e+05,\n",
              "         8.71410843e+04,  2.70144772e+06,  1.99148793e+05,  6.64457345e+03,\n",
              "         4.86823982e+04,  4.91157494e+05,  1.12972881e+06,  2.71326086e+04,\n",
              "         6.78586209e+04,  2.29635340e+04,  2.35248125e+04,  8.51347611e+04,\n",
              "         5.84255002e+05,  1.12286801e+05,  1.88614962e+04,  8.51109181e+05,\n",
              "        -7.73981590e+02,  2.41813150e+04,  1.26617660e+06,  4.30531550e+06,\n",
              "         3.28108345e+03,  7.02414048e+05,  2.11576631e+05,  1.68278493e+04,\n",
              "         1.60333595e+04,  3.23074630e+06,  4.98126647e+06,  3.92148903e+05,\n",
              "         3.73147403e+04,  1.45054515e+06,  2.76940431e+04,  1.33601538e+05,\n",
              "         2.96718623e+06,  8.75057579e+05,  1.39247021e+06,  4.75164979e+04,\n",
              "         3.44135609e+04,  3.30736301e+05, -4.24678773e+04,  9.08264439e+05,\n",
              "         3.17116456e+04,  1.54760236e+05,  2.23361597e+06,  2.28137227e+06,\n",
              "         2.16555410e+05,  1.24805611e+06,  2.88108694e+05,  8.74580817e+05,\n",
              "         2.03825615e+04,  1.32303732e+05,  2.08240423e+06,  5.32511031e+04,\n",
              "         5.59359299e+04,  1.14523080e+05, -6.37234541e+04,  3.86286509e+04,\n",
              "         7.53920904e+04,  4.60759162e+04,  7.14576609e+05,  3.61121507e+05,\n",
              "         3.75235098e+04,  3.23679889e+04,  4.35990548e+06,  2.94629837e+06,\n",
              "         4.72081229e+04,  3.38576691e+03,  6.00779863e+04,  5.10614860e+05,\n",
              "         2.05105145e+06,  4.41423695e+04,  2.22632738e+04,  4.76242565e+04,\n",
              "        -1.22785952e+04,  4.32402614e+06,  8.42067042e+04,  1.65722474e+04,\n",
              "         2.18482904e+04,  3.92651939e+04,  3.38576691e+03,  1.29702236e+06,\n",
              "         1.32446502e+05,  8.94455478e+05,  1.01638461e+05,  1.13792973e+06,\n",
              "         3.92478468e+05,  9.16278514e+04,  1.20073468e+05,  6.40410142e+05,\n",
              "         3.41458240e+05,  4.40495829e+05,  2.59507993e+06,  6.89334519e+05,\n",
              "         5.74900202e+04,  1.77201123e+06,  6.33873892e+05,  2.12285658e+06,\n",
              "         4.51226297e+06,  1.08273548e+06,  5.75740050e+04,  1.86745316e+04,\n",
              "         1.07438419e+06,  4.14751338e+04,  1.78917727e+04,  5.27749653e+05,\n",
              "         4.25131904e+05,  3.89011400e+06,  4.19217208e+05,  1.52225160e+05,\n",
              "         5.67107549e+05,  4.81386612e+05, -7.05931849e+03,  2.72226099e+06,\n",
              "         1.21689531e+05,  3.52002649e+06, -8.42649888e+03,  8.79974226e+05,\n",
              "         3.37459169e+05,  2.56575551e+03,  4.05939515e+04,  2.54588400e+05,\n",
              "         2.10213928e+05,  2.35524243e+04, -9.62320820e+03,  2.57781525e+04,\n",
              "         8.24149650e+05, -1.62498756e+05,  7.67247192e+03])]"
            ]
          },
          "metadata": {},
          "execution_count": 45
        }
      ]
    },
    {
      "cell_type": "code",
      "source": [
        "kfoldLightGBM[\"box_off_num\"] = np.mean(preds, axis = 0) "
      ],
      "metadata": {
        "id": "9gju_TCgUGSN"
      },
      "execution_count": null,
      "outputs": []
    },
    {
      "cell_type": "code",
      "source": [
        "kfoldLightGBM.head()"
      ],
      "metadata": {
        "colab": {
          "base_uri": "https://localhost:8080/",
          "height": 206
        },
        "id": "TGXye7eYUGr5",
        "outputId": "cbdbedf8-fd9a-4c5c-87ae-f4291b95469a"
      },
      "execution_count": null,
      "outputs": [
        {
          "output_type": "execute_result",
          "data": {
            "text/plain": [
              "         title   box_off_num\n",
              "0       용서는 없다  2.566294e+06\n",
              "1  아빠가 여자를 좋아해  7.559196e+05\n",
              "2          하모니  8.167889e+05\n",
              "3          의형제  1.669145e+06\n",
              "4        평행 이론  1.359821e+06"
            ],
            "text/html": [
              "\n",
              "  <div id=\"df-5857b6ce-da88-48d6-a3c1-3bf5abbf1937\">\n",
              "    <div class=\"colab-df-container\">\n",
              "      <div>\n",
              "<style scoped>\n",
              "    .dataframe tbody tr th:only-of-type {\n",
              "        vertical-align: middle;\n",
              "    }\n",
              "\n",
              "    .dataframe tbody tr th {\n",
              "        vertical-align: top;\n",
              "    }\n",
              "\n",
              "    .dataframe thead th {\n",
              "        text-align: right;\n",
              "    }\n",
              "</style>\n",
              "<table border=\"1\" class=\"dataframe\">\n",
              "  <thead>\n",
              "    <tr style=\"text-align: right;\">\n",
              "      <th></th>\n",
              "      <th>title</th>\n",
              "      <th>box_off_num</th>\n",
              "    </tr>\n",
              "  </thead>\n",
              "  <tbody>\n",
              "    <tr>\n",
              "      <th>0</th>\n",
              "      <td>용서는 없다</td>\n",
              "      <td>2.566294e+06</td>\n",
              "    </tr>\n",
              "    <tr>\n",
              "      <th>1</th>\n",
              "      <td>아빠가 여자를 좋아해</td>\n",
              "      <td>7.559196e+05</td>\n",
              "    </tr>\n",
              "    <tr>\n",
              "      <th>2</th>\n",
              "      <td>하모니</td>\n",
              "      <td>8.167889e+05</td>\n",
              "    </tr>\n",
              "    <tr>\n",
              "      <th>3</th>\n",
              "      <td>의형제</td>\n",
              "      <td>1.669145e+06</td>\n",
              "    </tr>\n",
              "    <tr>\n",
              "      <th>4</th>\n",
              "      <td>평행 이론</td>\n",
              "      <td>1.359821e+06</td>\n",
              "    </tr>\n",
              "  </tbody>\n",
              "</table>\n",
              "</div>\n",
              "      <button class=\"colab-df-convert\" onclick=\"convertToInteractive('df-5857b6ce-da88-48d6-a3c1-3bf5abbf1937')\"\n",
              "              title=\"Convert this dataframe to an interactive table.\"\n",
              "              style=\"display:none;\">\n",
              "        \n",
              "  <svg xmlns=\"http://www.w3.org/2000/svg\" height=\"24px\"viewBox=\"0 0 24 24\"\n",
              "       width=\"24px\">\n",
              "    <path d=\"M0 0h24v24H0V0z\" fill=\"none\"/>\n",
              "    <path d=\"M18.56 5.44l.94 2.06.94-2.06 2.06-.94-2.06-.94-.94-2.06-.94 2.06-2.06.94zm-11 1L8.5 8.5l.94-2.06 2.06-.94-2.06-.94L8.5 2.5l-.94 2.06-2.06.94zm10 10l.94 2.06.94-2.06 2.06-.94-2.06-.94-.94-2.06-.94 2.06-2.06.94z\"/><path d=\"M17.41 7.96l-1.37-1.37c-.4-.4-.92-.59-1.43-.59-.52 0-1.04.2-1.43.59L10.3 9.45l-7.72 7.72c-.78.78-.78 2.05 0 2.83L4 21.41c.39.39.9.59 1.41.59.51 0 1.02-.2 1.41-.59l7.78-7.78 2.81-2.81c.8-.78.8-2.07 0-2.86zM5.41 20L4 18.59l7.72-7.72 1.47 1.35L5.41 20z\"/>\n",
              "  </svg>\n",
              "      </button>\n",
              "      \n",
              "  <style>\n",
              "    .colab-df-container {\n",
              "      display:flex;\n",
              "      flex-wrap:wrap;\n",
              "      gap: 12px;\n",
              "    }\n",
              "\n",
              "    .colab-df-convert {\n",
              "      background-color: #E8F0FE;\n",
              "      border: none;\n",
              "      border-radius: 50%;\n",
              "      cursor: pointer;\n",
              "      display: none;\n",
              "      fill: #1967D2;\n",
              "      height: 32px;\n",
              "      padding: 0 0 0 0;\n",
              "      width: 32px;\n",
              "    }\n",
              "\n",
              "    .colab-df-convert:hover {\n",
              "      background-color: #E2EBFA;\n",
              "      box-shadow: 0px 1px 2px rgba(60, 64, 67, 0.3), 0px 1px 3px 1px rgba(60, 64, 67, 0.15);\n",
              "      fill: #174EA6;\n",
              "    }\n",
              "\n",
              "    [theme=dark] .colab-df-convert {\n",
              "      background-color: #3B4455;\n",
              "      fill: #D2E3FC;\n",
              "    }\n",
              "\n",
              "    [theme=dark] .colab-df-convert:hover {\n",
              "      background-color: #434B5C;\n",
              "      box-shadow: 0px 1px 3px 1px rgba(0, 0, 0, 0.15);\n",
              "      filter: drop-shadow(0px 1px 2px rgba(0, 0, 0, 0.3));\n",
              "      fill: #FFFFFF;\n",
              "    }\n",
              "  </style>\n",
              "\n",
              "      <script>\n",
              "        const buttonEl =\n",
              "          document.querySelector('#df-5857b6ce-da88-48d6-a3c1-3bf5abbf1937 button.colab-df-convert');\n",
              "        buttonEl.style.display =\n",
              "          google.colab.kernel.accessAllowed ? 'block' : 'none';\n",
              "\n",
              "        async function convertToInteractive(key) {\n",
              "          const element = document.querySelector('#df-5857b6ce-da88-48d6-a3c1-3bf5abbf1937');\n",
              "          const dataTable =\n",
              "            await google.colab.kernel.invokeFunction('convertToInteractive',\n",
              "                                                     [key], {});\n",
              "          if (!dataTable) return;\n",
              "\n",
              "          const docLinkHtml = 'Like what you see? Visit the ' +\n",
              "            '<a target=\"_blank\" href=https://colab.research.google.com/notebooks/data_table.ipynb>data table notebook</a>'\n",
              "            + ' to learn more about interactive tables.';\n",
              "          element.innerHTML = '';\n",
              "          dataTable['output_type'] = 'display_data';\n",
              "          await google.colab.output.renderOutput(dataTable, element);\n",
              "          const docLink = document.createElement('div');\n",
              "          docLink.innerHTML = docLinkHtml;\n",
              "          element.appendChild(docLink);\n",
              "        }\n",
              "      </script>\n",
              "    </div>\n",
              "  </div>\n",
              "  "
            ]
          },
          "metadata": {},
          "execution_count": 47
        }
      ]
    },
    {
      "cell_type": "code",
      "source": [],
      "metadata": {
        "id": "2fpjQFOsUG2C"
      },
      "execution_count": null,
      "outputs": []
    },
    {
      "cell_type": "code",
      "source": [
        "X_train = train[features]\n",
        "Y_train = train[target]\n",
        "X_test = test[features]"
      ],
      "metadata": {
        "id": "3YHHoPk_UQ67"
      },
      "execution_count": null,
      "outputs": []
    },
    {
      "cell_type": "code",
      "source": [
        "model2 = xgb.XGBRegressor(random_state=42)\n",
        "models2 = [ ]\n",
        "for train_idx, val_idx in k_fold.split(X_train):\n",
        "    x_t = X_train.iloc[train_idx]\n",
        "    y_t = Y_train.iloc[train_idx]\n",
        "    x_val = X_train.iloc[val_idx]\n",
        "    y_val = Y_train.iloc[val_idx]\n",
        "    models2.append(model2.fit(x_t, y_t, eval_set=[(x_val, y_val)], early_stopping_rounds=100, verbose = 100))"
      ],
      "metadata": {
        "colab": {
          "base_uri": "https://localhost:8080/"
        },
        "id": "fYTP_s_lUTzU",
        "outputId": "da446db7-cf3e-429e-f8d1-5e601dd30342"
      },
      "execution_count": null,
      "outputs": [
        {
          "output_type": "stream",
          "name": "stdout",
          "text": [
            "[03:25:33] WARNING: /workspace/src/objective/regression_obj.cu:152: reg:linear is now deprecated in favor of reg:squarederror.\n",
            "[0]\tvalidation_0-rmse:1.38325e+06\n",
            "Will train until validation_0-rmse hasn't improved in 100 rounds.\n",
            "[99]\tvalidation_0-rmse:1.37776e+06\n",
            "[03:25:34] WARNING: /workspace/src/objective/regression_obj.cu:152: reg:linear is now deprecated in favor of reg:squarederror.\n",
            "[0]\tvalidation_0-rmse:1.38265e+06\n",
            "Will train until validation_0-rmse hasn't improved in 100 rounds.\n",
            "[99]\tvalidation_0-rmse:1.3733e+06\n",
            "[03:25:34] WARNING: /workspace/src/objective/regression_obj.cu:152: reg:linear is now deprecated in favor of reg:squarederror.\n",
            "[0]\tvalidation_0-rmse:2.03598e+06\n",
            "Will train until validation_0-rmse hasn't improved in 100 rounds.\n",
            "[99]\tvalidation_0-rmse:1.50907e+06\n",
            "[03:25:34] WARNING: /workspace/src/objective/regression_obj.cu:152: reg:linear is now deprecated in favor of reg:squarederror.\n",
            "[0]\tvalidation_0-rmse:2.05523e+06\n",
            "Will train until validation_0-rmse hasn't improved in 100 rounds.\n",
            "[99]\tvalidation_0-rmse:1.73185e+06\n",
            "[03:25:34] WARNING: /workspace/src/objective/regression_obj.cu:152: reg:linear is now deprecated in favor of reg:squarederror.\n",
            "[0]\tvalidation_0-rmse:2.35384e+06\n",
            "Will train until validation_0-rmse hasn't improved in 100 rounds.\n",
            "[99]\tvalidation_0-rmse:1.7215e+06\n"
          ]
        }
      ]
    }
  ]
}